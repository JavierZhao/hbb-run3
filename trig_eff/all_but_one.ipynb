{
 "cells": [
  {
   "cell_type": "code",
   "execution_count": 1,
   "id": "188ccb74-1ac1-434d-8c4f-eada169e4982",
   "metadata": {
    "execution": {
     "iopub.execute_input": "2025-06-05T17:42:26.873596Z",
     "iopub.status.busy": "2025-06-05T17:42:26.873407Z",
     "iopub.status.idle": "2025-06-05T17:42:28.755679Z",
     "shell.execute_reply": "2025-06-05T17:42:28.754825Z",
     "shell.execute_reply.started": "2025-06-05T17:42:26.873574Z"
    }
   },
   "outputs": [],
   "source": [
    "import warnings\n",
    "warnings.filterwarnings('ignore')\n",
    "import os\n",
    "import awkward as ak\n",
    "import uproot\n",
    "import hist\n",
    "import numpy as np\n",
    "from coffea import processor\n",
    "from coffea.nanoevents import NanoEventsFactory, NanoAODSchema, BaseSchema\n",
    "from coffea.processor import dict_accumulator, list_accumulator\n",
    "\n",
    "import matplotlib.pyplot as plt\n",
    "import matplotlib.colors as colors\n",
    "import mplhep as hep\n",
    "plt.style.use(hep.style.ROOT)\n",
    "\n",
    "import matplotlib.pylab as pylab\n",
    "params = {'legend.fontsize': 'medium',\n",
    "         'axes.labelsize': 'x-large',\n",
    "         'axes.titlesize':'x-large',\n",
    "         'xtick.labelsize':'medium',\n",
    "         'ytick.labelsize':'medium'}\n",
    "pylab.rcParams.update(params)\n",
    "\n",
    "#line thickness\n",
    "import matplotlib as mpl\n",
    "mpl.rcParams['lines.linewidth'] = 5\n",
    "import itertools\n",
    "import json\n",
    "\n",
    "# for making fancy 2d histograms\n",
    "import plotly.graph_objects as go\n",
    "from plotly.subplots import make_subplots\n",
    "\n",
    "from utils import (plot_1d_trigger_efficiencies, \n",
    "                plot_1d_trigger_efficiencies_improvement, \n",
    "                plot_fancy_2d_trigger_efficiencies, \n",
    "                compare_trigger_efficiencies, \n",
    "                plot_1d_trigger_soup_compact,\n",
    "                plot_1d_trigger_soup_cms)\n",
    "from trig_eff_process import (create_baseline_selection_mask_new, \n",
    "                            TriggerEfficiencyProcessor, \n",
    "                            TriggerEfficiencyImprovementProcessor, \n",
    "                            VBFBaselineCutFlowProcessor, \n",
    "                            GeneralBaselineCutFlowProcessor,\n",
    "                            TriggerSoupProcessor,\n",
    "                            TriggerSoupProcessor_individual,\n",
    "                            ParkingSoupProcessor)"
   ]
  },
  {
   "cell_type": "code",
   "execution_count": 2,
   "id": "37b73d5d-427d-4b66-865a-f0898dcab20b",
   "metadata": {
    "execution": {
     "iopub.execute_input": "2025-06-05T17:42:28.756983Z",
     "iopub.status.busy": "2025-06-05T17:42:28.756571Z",
     "iopub.status.idle": "2025-06-05T17:42:28.767613Z",
     "shell.execute_reply": "2025-06-05T17:42:28.767038Z",
     "shell.execute_reply.started": "2025-06-05T17:42:28.756962Z"
    }
   },
   "outputs": [],
   "source": [
    "trig_vars = {\n",
    "    'ht': {\n",
    "        'label': \"H_{T} [GeV]\",\n",
    "        'axis': hist.axis.Regular(bins=100, start=0, stop=2000, name=\"ht\", label=\"H_{T} [GeV]\"),\n",
    "        'proc': lambda events: ak.sum(events.FatJet.pt, axis=1)\n",
    "    },\n",
    "    'pt': {\n",
    "        'label': \"Leading Jet $p_{T}$ [GeV]\",\n",
    "        'axis': hist.axis.Regular(bins=30, start=0, stop=1200, name=\"pt\", label=\"Leading Jet $p_{T}$ [GeV]\"),\n",
    "        'proc': lambda events: ak.fill_none(ak.pad_none(events.FatJet.pt, 1, clip=True)[:, 0], np.nan)\n",
    "    },\n",
    "    'msd': {\n",
    "        'label': \"Leading Jet $m_{SD}$ [GeV]\",\n",
    "        'axis': hist.axis.Regular(bins=10, start=40, stop=200, name=\"msd\", label=\"Leading Jet $m_{SD}$ [GeV]\"),\n",
    "        'proc': lambda events: ak.fill_none(ak.pad_none(events.FatJet.msoftdrop, 1, clip=True)[:, 0], np.nan)\n",
    "    },\n",
    "    'num_ak4': {\n",
    "        'label': \"Number of AK4 Jets\",\n",
    "        'axis': hist.axis.Integer(0, 20, name=\"num_ak4\", label=\"Number of AK4 Jets\"),\n",
    "        'proc': lambda events: ak.num(events.Jet)\n",
    "    },\n",
    "    'gen_H_pt': {\n",
    "        'label': \"Gen Higgs pT [GeV]\",\n",
    "        'axis': hist.axis.Regular(bins=30, start=0, stop=1200, name=\"gen_H_pt\", label=\"Gen Higgs pT [GeV]\"),\n",
    "        'proc': lambda events: events.HTXS.Higgs_pt\n",
    "    },\n",
    "    'particleNet_XbbVsQCD':{\n",
    "        'label': \"Leading Particle Net TXbb score\",\n",
    "        'axis': hist.axis.Regular(bins=30, start=0, stop=1, name=\"particleNet_XbbVsQCD\", label=\"Leading Particle Net TXbb score\"),\n",
    "        'proc': lambda events: ak.fill_none(\n",
    "            ak.pad_none(events.FatJet.particleNet_XbbVsQCD, 1, clip=True)[:, 0],\n",
    "            np.nan\n",
    "        )\n",
    "    }\n",
    "}\n",
    "\n",
    "trig_vars_data = {\n",
    "    'ht': {\n",
    "        'label': \"H_{T} [GeV]\",\n",
    "        'axis': hist.axis.Regular(bins=100, start=0, stop=2000, name=\"ht\", label=\"H_{T} [GeV]\"),\n",
    "        'proc': lambda events: ak.sum(events.FatJet.pt, axis=1)\n",
    "    },\n",
    "    'pt': {\n",
    "        'label': \"Leading Jet $p_{T}$ [GeV]\",\n",
    "        'axis': hist.axis.Regular(bins=30, start=0, stop=1200, name=\"pt\", label=\"Leading Jet $p_{T}$ [GeV]\"),\n",
    "        'proc': lambda events: ak.fill_none(ak.pad_none(events.FatJet.pt, 1, clip=True)[:, 0], np.nan)\n",
    "    },\n",
    "    'msd': {\n",
    "        'label': \"Leading Jet $m_{SD}$ [GeV]\",\n",
    "        'axis': hist.axis.Regular(bins=10, start=40, stop=200, name=\"msd\", label=\"Leading Jet $m_{SD}$ [GeV]\"),\n",
    "        'proc': lambda events: ak.fill_none(ak.pad_none(events.FatJet.msoftdrop, 1, clip=True)[:, 0], np.nan)\n",
    "    },\n",
    "    'num_ak4': {\n",
    "        'label': \"Number of AK4 Jets\",\n",
    "        'axis': hist.axis.Integer(0, 20, name=\"num_ak4\", label=\"Number of AK4 Jets\"),\n",
    "        'proc': lambda events: ak.num(events.Jet)\n",
    "    },\n",
    "    'particleNet_XbbVsQCD':{\n",
    "        'label': \"Leading Particle Net TXbb score\",\n",
    "        'axis': hist.axis.Regular(bins=30, start=0, stop=1, name=\"particleNet_XbbVsQCD\", label=\"Leading Particle Net TXbb score\"),\n",
    "        'proc': lambda events: ak.fill_none(\n",
    "            ak.pad_none(events.FatJet.particleNet_XbbVsQCD, 1, clip=True)[:, 0],\n",
    "            np.nan\n",
    "        )\n",
    "    }\n",
    "}  # no Gen Higgs pT\n"
   ]
  },
  {
   "cell_type": "code",
   "execution_count": 7,
   "id": "86dfc034-2ca6-410b-a958-1e2e744eeb62",
   "metadata": {
    "execution": {
     "iopub.execute_input": "2025-06-05T21:19:31.357831Z",
     "iopub.status.busy": "2025-06-05T21:19:31.355026Z",
     "iopub.status.idle": "2025-06-05T21:19:31.365763Z",
     "shell.execute_reply": "2025-06-05T21:19:31.364941Z",
     "shell.execute_reply.started": "2025-06-05T21:19:31.357794Z"
    }
   },
   "outputs": [],
   "source": [
    "trigger_dict_periods = {\n",
    "    '2022': [\n",
    "        'AK8PFJet250_SoftDropMass40_PFAK8ParticleNetBB0p35',\n",
    "        # 'AK8PFJet425_SoftDropMass40',\n",
    "        'QuadPFJet70_50_40_35_PFBTagParticleNet_2BTagSum0p65'\n",
    "    ],\n",
    "    '2022EE': [\n",
    "        'AK8PFJet250_SoftDropMass40_PFAK8ParticleNetBB0p35',\n",
    "        # 'AK8PFJet425_SoftDropMass40',\n",
    "        'QuadPFJet70_50_40_35_PFBTagParticleNet_2BTagSum0p65'\n",
    "    ],\n",
    "    '2023': [\n",
    "        'AK8PFJet250_SoftDropMass40_PNetBB0p06',\n",
    "        # 'AK8PFJet425_SoftDropMass40',\n",
    "        # 'PFHT340_QuadPFJet70_50_40_40_PNet2BTagMean0p70',\n",
    "        'VBF_DiPFJet125_45_Mjj720_Detajj3p0'\n",
    "    ],\n",
    "    '2023BPix': [\n",
    "        'AK8PFJet250_SoftDropMass40_PNetBB0p06',\n",
    "        # 'AK8PFJet425_SoftDropMass40',\n",
    "        # 'PFHT340_QuadPFJet70_50_40_40_PNet2BTagMean0p70',\n",
    "        'VBF_DiPFJet125_45_Mjj720_Detajj3p0'\n",
    "    ]\n",
    "}"
   ]
  },
  {
   "cell_type": "code",
   "execution_count": 8,
   "id": "0bca6c9c-a77c-4438-ad41-26199d04b94c",
   "metadata": {
    "execution": {
     "iopub.execute_input": "2025-06-05T21:19:40.718322Z",
     "iopub.status.busy": "2025-06-05T21:19:40.718031Z",
     "iopub.status.idle": "2025-06-05T21:34:11.415622Z",
     "shell.execute_reply": "2025-06-05T21:34:11.414546Z",
     "shell.execute_reply.started": "2025-06-05T21:19:40.718301Z"
    }
   },
   "outputs": [
    {
     "name": "stdout",
     "output_type": "stream",
     "text": [
      "Processing period 2023\n",
      "Currently processing production mode VBF\n",
      "Trigger combinations: [('All_triggers', ['AK8PFJet250_SoftDropMass40_PNetBB0p06', 'VBF_DiPFJet125_45_Mjj720_Detajj3p0']), ('Without_AK8PFJet250_SoftDropMass40_PNetBB0p06', ['VBF_DiPFJet125_45_Mjj720_Detajj3p0']), ('Without_VBF_DiPFJet125_45_Mjj720_Detajj3p0', ['AK8PFJet250_SoftDropMass40_PNetBB0p06'])]\n"
     ]
    },
    {
     "data": {
      "application/vnd.jupyter.widget-view+json": {
       "model_id": "70d12adba1ff41ae8b3c1dfeed6530f8",
       "version_major": 2,
       "version_minor": 0
      },
      "text/plain": [
       "Output()"
      ]
     },
     "metadata": {},
     "output_type": "display_data"
    },
    {
     "data": {
      "text/html": [
       "<pre style=\"white-space:pre;overflow-x:auto;line-height:normal;font-family:Menlo,'DejaVu Sans Mono',consolas,'Courier New',monospace\"></pre>\n"
      ],
      "text/plain": []
     },
     "metadata": {},
     "output_type": "display_data"
    },
    {
     "data": {
      "text/html": [
       "<pre style=\"white-space:pre;overflow-x:auto;line-height:normal;font-family:Menlo,'DejaVu Sans Mono',consolas,'Courier New',monospace\">\n",
       "</pre>\n"
      ],
      "text/plain": [
       "\n"
      ]
     },
     "metadata": {},
     "output_type": "display_data"
    },
    {
     "name": "stderr",
     "output_type": "stream",
     "text": [
      "No artists with labels found to put in legend.  Note that artists whose label start with an underscore are ignored when legend() is called with no argument.\n",
      "No artists with labels found to put in legend.  Note that artists whose label start with an underscore are ignored when legend() is called with no argument.\n"
     ]
    },
    {
     "name": "stdout",
     "output_type": "stream",
     "text": [
      "Saved /srv/figures/all_but_one/2_trigers_only/MC/2023/VBF//ht_trigger_soup.png\n"
     ]
    },
    {
     "name": "stderr",
     "output_type": "stream",
     "text": [
      "No artists with labels found to put in legend.  Note that artists whose label start with an underscore are ignored when legend() is called with no argument.\n"
     ]
    },
    {
     "name": "stdout",
     "output_type": "stream",
     "text": [
      "Saved /srv/figures/all_but_one/2_trigers_only/MC/2023/VBF//pt_trigger_soup.png\n"
     ]
    },
    {
     "name": "stderr",
     "output_type": "stream",
     "text": [
      "No artists with labels found to put in legend.  Note that artists whose label start with an underscore are ignored when legend() is called with no argument.\n"
     ]
    },
    {
     "name": "stdout",
     "output_type": "stream",
     "text": [
      "Saved /srv/figures/all_but_one/2_trigers_only/MC/2023/VBF//msd_trigger_soup.png\n"
     ]
    },
    {
     "name": "stderr",
     "output_type": "stream",
     "text": [
      "No artists with labels found to put in legend.  Note that artists whose label start with an underscore are ignored when legend() is called with no argument.\n"
     ]
    },
    {
     "name": "stdout",
     "output_type": "stream",
     "text": [
      "Saved /srv/figures/all_but_one/2_trigers_only/MC/2023/VBF//num_ak4_trigger_soup.png\n"
     ]
    },
    {
     "name": "stderr",
     "output_type": "stream",
     "text": [
      "No artists with labels found to put in legend.  Note that artists whose label start with an underscore are ignored when legend() is called with no argument.\n"
     ]
    },
    {
     "name": "stdout",
     "output_type": "stream",
     "text": [
      "Saved /srv/figures/all_but_one/2_trigers_only/MC/2023/VBF//gen_H_pt_trigger_soup.png\n",
      "Saved /srv/figures/all_but_one/2_trigers_only/MC/2023/VBF//particleNet_XbbVsQCD_trigger_soup.png\n",
      "Currently processing production mode ggF\n",
      "Trigger combinations: [('All_triggers', ['AK8PFJet250_SoftDropMass40_PNetBB0p06', 'VBF_DiPFJet125_45_Mjj720_Detajj3p0']), ('Without_AK8PFJet250_SoftDropMass40_PNetBB0p06', ['VBF_DiPFJet125_45_Mjj720_Detajj3p0']), ('Without_VBF_DiPFJet125_45_Mjj720_Detajj3p0', ['AK8PFJet250_SoftDropMass40_PNetBB0p06'])]\n"
     ]
    },
    {
     "data": {
      "application/vnd.jupyter.widget-view+json": {
       "model_id": "a92758d56e5b4e6ab12a6891395dc757",
       "version_major": 2,
       "version_minor": 0
      },
      "text/plain": [
       "Output()"
      ]
     },
     "metadata": {},
     "output_type": "display_data"
    },
    {
     "data": {
      "text/html": [
       "<pre style=\"white-space:pre;overflow-x:auto;line-height:normal;font-family:Menlo,'DejaVu Sans Mono',consolas,'Courier New',monospace\"></pre>\n"
      ],
      "text/plain": []
     },
     "metadata": {},
     "output_type": "display_data"
    },
    {
     "data": {
      "text/html": [
       "<pre style=\"white-space:pre;overflow-x:auto;line-height:normal;font-family:Menlo,'DejaVu Sans Mono',consolas,'Courier New',monospace\">\n",
       "</pre>\n"
      ],
      "text/plain": [
       "\n"
      ]
     },
     "metadata": {},
     "output_type": "display_data"
    },
    {
     "data": {
      "application/vnd.jupyter.widget-view+json": {
       "model_id": "e130980fa1554db7a2e09554dc4dbc67",
       "version_major": 2,
       "version_minor": 0
      },
      "text/plain": [
       "Output()"
      ]
     },
     "metadata": {},
     "output_type": "display_data"
    },
    {
     "data": {
      "text/html": [
       "<pre style=\"white-space:pre;overflow-x:auto;line-height:normal;font-family:Menlo,'DejaVu Sans Mono',consolas,'Courier New',monospace\"></pre>\n"
      ],
      "text/plain": []
     },
     "metadata": {},
     "output_type": "display_data"
    },
    {
     "data": {
      "text/html": [
       "<pre style=\"white-space:pre;overflow-x:auto;line-height:normal;font-family:Menlo,'DejaVu Sans Mono',consolas,'Courier New',monospace\">\n",
       "</pre>\n"
      ],
      "text/plain": [
       "\n"
      ]
     },
     "metadata": {},
     "output_type": "display_data"
    },
    {
     "name": "stderr",
     "output_type": "stream",
     "text": [
      "No artists with labels found to put in legend.  Note that artists whose label start with an underscore are ignored when legend() is called with no argument.\n",
      "No artists with labels found to put in legend.  Note that artists whose label start with an underscore are ignored when legend() is called with no argument.\n"
     ]
    },
    {
     "name": "stdout",
     "output_type": "stream",
     "text": [
      "Saved /srv/figures/all_but_one/2_trigers_only/MC/2023/ggF//ht_trigger_soup.png\n"
     ]
    },
    {
     "name": "stderr",
     "output_type": "stream",
     "text": [
      "No artists with labels found to put in legend.  Note that artists whose label start with an underscore are ignored when legend() is called with no argument.\n"
     ]
    },
    {
     "name": "stdout",
     "output_type": "stream",
     "text": [
      "Saved /srv/figures/all_but_one/2_trigers_only/MC/2023/ggF//pt_trigger_soup.png\n"
     ]
    },
    {
     "name": "stderr",
     "output_type": "stream",
     "text": [
      "No artists with labels found to put in legend.  Note that artists whose label start with an underscore are ignored when legend() is called with no argument.\n"
     ]
    },
    {
     "name": "stdout",
     "output_type": "stream",
     "text": [
      "Saved /srv/figures/all_but_one/2_trigers_only/MC/2023/ggF//msd_trigger_soup.png\n"
     ]
    },
    {
     "name": "stderr",
     "output_type": "stream",
     "text": [
      "No artists with labels found to put in legend.  Note that artists whose label start with an underscore are ignored when legend() is called with no argument.\n"
     ]
    },
    {
     "name": "stdout",
     "output_type": "stream",
     "text": [
      "Saved /srv/figures/all_but_one/2_trigers_only/MC/2023/ggF//num_ak4_trigger_soup.png\n"
     ]
    },
    {
     "name": "stderr",
     "output_type": "stream",
     "text": [
      "No artists with labels found to put in legend.  Note that artists whose label start with an underscore are ignored when legend() is called with no argument.\n"
     ]
    },
    {
     "name": "stdout",
     "output_type": "stream",
     "text": [
      "Saved /srv/figures/all_but_one/2_trigers_only/MC/2023/ggF//gen_H_pt_trigger_soup.png\n",
      "Saved /srv/figures/all_but_one/2_trigers_only/MC/2023/ggF//particleNet_XbbVsQCD_trigger_soup.png\n",
      "Processing period 2023BPix\n",
      "Currently processing production mode VBF\n",
      "Trigger combinations: [('All_triggers', ['AK8PFJet250_SoftDropMass40_PNetBB0p06', 'VBF_DiPFJet125_45_Mjj720_Detajj3p0']), ('Without_AK8PFJet250_SoftDropMass40_PNetBB0p06', ['VBF_DiPFJet125_45_Mjj720_Detajj3p0']), ('Without_VBF_DiPFJet125_45_Mjj720_Detajj3p0', ['AK8PFJet250_SoftDropMass40_PNetBB0p06'])]\n"
     ]
    },
    {
     "data": {
      "application/vnd.jupyter.widget-view+json": {
       "model_id": "b8906fca42c24212ac0cdf88a851669f",
       "version_major": 2,
       "version_minor": 0
      },
      "text/plain": [
       "Output()"
      ]
     },
     "metadata": {},
     "output_type": "display_data"
    },
    {
     "data": {
      "text/html": [
       "<pre style=\"white-space:pre;overflow-x:auto;line-height:normal;font-family:Menlo,'DejaVu Sans Mono',consolas,'Courier New',monospace\"></pre>\n"
      ],
      "text/plain": []
     },
     "metadata": {},
     "output_type": "display_data"
    },
    {
     "data": {
      "text/html": [
       "<pre style=\"white-space:pre;overflow-x:auto;line-height:normal;font-family:Menlo,'DejaVu Sans Mono',consolas,'Courier New',monospace\">\n",
       "</pre>\n"
      ],
      "text/plain": [
       "\n"
      ]
     },
     "metadata": {},
     "output_type": "display_data"
    },
    {
     "name": "stderr",
     "output_type": "stream",
     "text": [
      "No artists with labels found to put in legend.  Note that artists whose label start with an underscore are ignored when legend() is called with no argument.\n",
      "No artists with labels found to put in legend.  Note that artists whose label start with an underscore are ignored when legend() is called with no argument.\n"
     ]
    },
    {
     "name": "stdout",
     "output_type": "stream",
     "text": [
      "Saved /srv/figures/all_but_one/2_trigers_only/MC/2023BPix/VBF//ht_trigger_soup.png\n"
     ]
    },
    {
     "name": "stderr",
     "output_type": "stream",
     "text": [
      "No artists with labels found to put in legend.  Note that artists whose label start with an underscore are ignored when legend() is called with no argument.\n"
     ]
    },
    {
     "name": "stdout",
     "output_type": "stream",
     "text": [
      "Saved /srv/figures/all_but_one/2_trigers_only/MC/2023BPix/VBF//pt_trigger_soup.png\n"
     ]
    },
    {
     "name": "stderr",
     "output_type": "stream",
     "text": [
      "No artists with labels found to put in legend.  Note that artists whose label start with an underscore are ignored when legend() is called with no argument.\n"
     ]
    },
    {
     "name": "stdout",
     "output_type": "stream",
     "text": [
      "Saved /srv/figures/all_but_one/2_trigers_only/MC/2023BPix/VBF//msd_trigger_soup.png\n"
     ]
    },
    {
     "name": "stderr",
     "output_type": "stream",
     "text": [
      "No artists with labels found to put in legend.  Note that artists whose label start with an underscore are ignored when legend() is called with no argument.\n"
     ]
    },
    {
     "name": "stdout",
     "output_type": "stream",
     "text": [
      "Saved /srv/figures/all_but_one/2_trigers_only/MC/2023BPix/VBF//num_ak4_trigger_soup.png\n"
     ]
    },
    {
     "name": "stderr",
     "output_type": "stream",
     "text": [
      "No artists with labels found to put in legend.  Note that artists whose label start with an underscore are ignored when legend() is called with no argument.\n"
     ]
    },
    {
     "name": "stdout",
     "output_type": "stream",
     "text": [
      "Saved /srv/figures/all_but_one/2_trigers_only/MC/2023BPix/VBF//gen_H_pt_trigger_soup.png\n",
      "Saved /srv/figures/all_but_one/2_trigers_only/MC/2023BPix/VBF//particleNet_XbbVsQCD_trigger_soup.png\n",
      "Currently processing production mode ggF\n",
      "Trigger combinations: [('All_triggers', ['AK8PFJet250_SoftDropMass40_PNetBB0p06', 'VBF_DiPFJet125_45_Mjj720_Detajj3p0']), ('Without_AK8PFJet250_SoftDropMass40_PNetBB0p06', ['VBF_DiPFJet125_45_Mjj720_Detajj3p0']), ('Without_VBF_DiPFJet125_45_Mjj720_Detajj3p0', ['AK8PFJet250_SoftDropMass40_PNetBB0p06'])]\n"
     ]
    },
    {
     "data": {
      "application/vnd.jupyter.widget-view+json": {
       "model_id": "568b7484081b4e4a9da091e0dffa10cd",
       "version_major": 2,
       "version_minor": 0
      },
      "text/plain": [
       "Output()"
      ]
     },
     "metadata": {},
     "output_type": "display_data"
    },
    {
     "data": {
      "text/html": [
       "<pre style=\"white-space:pre;overflow-x:auto;line-height:normal;font-family:Menlo,'DejaVu Sans Mono',consolas,'Courier New',monospace\"></pre>\n"
      ],
      "text/plain": []
     },
     "metadata": {},
     "output_type": "display_data"
    },
    {
     "data": {
      "text/html": [
       "<pre style=\"white-space:pre;overflow-x:auto;line-height:normal;font-family:Menlo,'DejaVu Sans Mono',consolas,'Courier New',monospace\">\n",
       "</pre>\n"
      ],
      "text/plain": [
       "\n"
      ]
     },
     "metadata": {},
     "output_type": "display_data"
    },
    {
     "data": {
      "application/vnd.jupyter.widget-view+json": {
       "model_id": "8af13427e1654ce4a2c41bdd672ca4ec",
       "version_major": 2,
       "version_minor": 0
      },
      "text/plain": [
       "Output()"
      ]
     },
     "metadata": {},
     "output_type": "display_data"
    },
    {
     "data": {
      "text/html": [
       "<pre style=\"white-space:pre;overflow-x:auto;line-height:normal;font-family:Menlo,'DejaVu Sans Mono',consolas,'Courier New',monospace\"></pre>\n"
      ],
      "text/plain": []
     },
     "metadata": {},
     "output_type": "display_data"
    },
    {
     "data": {
      "text/html": [
       "<pre style=\"white-space:pre;overflow-x:auto;line-height:normal;font-family:Menlo,'DejaVu Sans Mono',consolas,'Courier New',monospace\">\n",
       "</pre>\n"
      ],
      "text/plain": [
       "\n"
      ]
     },
     "metadata": {},
     "output_type": "display_data"
    },
    {
     "name": "stderr",
     "output_type": "stream",
     "text": [
      "No artists with labels found to put in legend.  Note that artists whose label start with an underscore are ignored when legend() is called with no argument.\n",
      "No artists with labels found to put in legend.  Note that artists whose label start with an underscore are ignored when legend() is called with no argument.\n"
     ]
    },
    {
     "name": "stdout",
     "output_type": "stream",
     "text": [
      "Saved /srv/figures/all_but_one/2_trigers_only/MC/2023BPix/ggF//ht_trigger_soup.png\n"
     ]
    },
    {
     "name": "stderr",
     "output_type": "stream",
     "text": [
      "No artists with labels found to put in legend.  Note that artists whose label start with an underscore are ignored when legend() is called with no argument.\n"
     ]
    },
    {
     "name": "stdout",
     "output_type": "stream",
     "text": [
      "Saved /srv/figures/all_but_one/2_trigers_only/MC/2023BPix/ggF//pt_trigger_soup.png\n"
     ]
    },
    {
     "name": "stderr",
     "output_type": "stream",
     "text": [
      "No artists with labels found to put in legend.  Note that artists whose label start with an underscore are ignored when legend() is called with no argument.\n"
     ]
    },
    {
     "name": "stdout",
     "output_type": "stream",
     "text": [
      "Saved /srv/figures/all_but_one/2_trigers_only/MC/2023BPix/ggF//msd_trigger_soup.png\n"
     ]
    },
    {
     "name": "stderr",
     "output_type": "stream",
     "text": [
      "No artists with labels found to put in legend.  Note that artists whose label start with an underscore are ignored when legend() is called with no argument.\n"
     ]
    },
    {
     "name": "stdout",
     "output_type": "stream",
     "text": [
      "Saved /srv/figures/all_but_one/2_trigers_only/MC/2023BPix/ggF//num_ak4_trigger_soup.png\n"
     ]
    },
    {
     "name": "stderr",
     "output_type": "stream",
     "text": [
      "No artists with labels found to put in legend.  Note that artists whose label start with an underscore are ignored when legend() is called with no argument.\n"
     ]
    },
    {
     "name": "stdout",
     "output_type": "stream",
     "text": [
      "Saved /srv/figures/all_but_one/2_trigers_only/MC/2023BPix/ggF//gen_H_pt_trigger_soup.png\n",
      "Saved /srv/figures/all_but_one/2_trigers_only/MC/2023BPix/ggF//particleNet_XbbVsQCD_trigger_soup.png\n",
      "Processing period 2022\n",
      "Currently processing production mode VBF\n",
      "Trigger combinations: [('All_triggers', ['AK8PFJet250_SoftDropMass40_PFAK8ParticleNetBB0p35', 'QuadPFJet70_50_40_35_PFBTagParticleNet_2BTagSum0p65']), ('Without_AK8PFJet250_SoftDropMass40_PFAK8ParticleNetBB0p35', ['QuadPFJet70_50_40_35_PFBTagParticleNet_2BTagSum0p65']), ('Without_QuadPFJet70_50_40_35_PFBTagParticleNet_2BTagSum0p65', ['AK8PFJet250_SoftDropMass40_PFAK8ParticleNetBB0p35'])]\n"
     ]
    },
    {
     "data": {
      "application/vnd.jupyter.widget-view+json": {
       "model_id": "43f094313c4f42b3817c15a47f10edda",
       "version_major": 2,
       "version_minor": 0
      },
      "text/plain": [
       "Output()"
      ]
     },
     "metadata": {},
     "output_type": "display_data"
    },
    {
     "data": {
      "text/html": [
       "<pre style=\"white-space:pre;overflow-x:auto;line-height:normal;font-family:Menlo,'DejaVu Sans Mono',consolas,'Courier New',monospace\"></pre>\n"
      ],
      "text/plain": []
     },
     "metadata": {},
     "output_type": "display_data"
    },
    {
     "data": {
      "text/html": [
       "<pre style=\"white-space:pre;overflow-x:auto;line-height:normal;font-family:Menlo,'DejaVu Sans Mono',consolas,'Courier New',monospace\">\n",
       "</pre>\n"
      ],
      "text/plain": [
       "\n"
      ]
     },
     "metadata": {},
     "output_type": "display_data"
    },
    {
     "name": "stderr",
     "output_type": "stream",
     "text": [
      "No artists with labels found to put in legend.  Note that artists whose label start with an underscore are ignored when legend() is called with no argument.\n",
      "No artists with labels found to put in legend.  Note that artists whose label start with an underscore are ignored when legend() is called with no argument.\n"
     ]
    },
    {
     "name": "stdout",
     "output_type": "stream",
     "text": [
      "Saved /srv/figures/all_but_one/2_trigers_only/MC/2022/VBF//ht_trigger_soup.png\n"
     ]
    },
    {
     "name": "stderr",
     "output_type": "stream",
     "text": [
      "No artists with labels found to put in legend.  Note that artists whose label start with an underscore are ignored when legend() is called with no argument.\n"
     ]
    },
    {
     "name": "stdout",
     "output_type": "stream",
     "text": [
      "Saved /srv/figures/all_but_one/2_trigers_only/MC/2022/VBF//pt_trigger_soup.png\n"
     ]
    },
    {
     "name": "stderr",
     "output_type": "stream",
     "text": [
      "No artists with labels found to put in legend.  Note that artists whose label start with an underscore are ignored when legend() is called with no argument.\n"
     ]
    },
    {
     "name": "stdout",
     "output_type": "stream",
     "text": [
      "Saved /srv/figures/all_but_one/2_trigers_only/MC/2022/VBF//msd_trigger_soup.png\n"
     ]
    },
    {
     "name": "stderr",
     "output_type": "stream",
     "text": [
      "No artists with labels found to put in legend.  Note that artists whose label start with an underscore are ignored when legend() is called with no argument.\n"
     ]
    },
    {
     "name": "stdout",
     "output_type": "stream",
     "text": [
      "Saved /srv/figures/all_but_one/2_trigers_only/MC/2022/VBF//num_ak4_trigger_soup.png\n"
     ]
    },
    {
     "name": "stderr",
     "output_type": "stream",
     "text": [
      "No artists with labels found to put in legend.  Note that artists whose label start with an underscore are ignored when legend() is called with no argument.\n"
     ]
    },
    {
     "name": "stdout",
     "output_type": "stream",
     "text": [
      "Saved /srv/figures/all_but_one/2_trigers_only/MC/2022/VBF//gen_H_pt_trigger_soup.png\n",
      "Saved /srv/figures/all_but_one/2_trigers_only/MC/2022/VBF//particleNet_XbbVsQCD_trigger_soup.png\n",
      "Currently processing production mode ggF\n",
      "Trigger combinations: [('All_triggers', ['AK8PFJet250_SoftDropMass40_PFAK8ParticleNetBB0p35', 'QuadPFJet70_50_40_35_PFBTagParticleNet_2BTagSum0p65']), ('Without_AK8PFJet250_SoftDropMass40_PFAK8ParticleNetBB0p35', ['QuadPFJet70_50_40_35_PFBTagParticleNet_2BTagSum0p65']), ('Without_QuadPFJet70_50_40_35_PFBTagParticleNet_2BTagSum0p65', ['AK8PFJet250_SoftDropMass40_PFAK8ParticleNetBB0p35'])]\n"
     ]
    },
    {
     "data": {
      "application/vnd.jupyter.widget-view+json": {
       "model_id": "6146118e8569474e99cfa44ee6a566b1",
       "version_major": 2,
       "version_minor": 0
      },
      "text/plain": [
       "Output()"
      ]
     },
     "metadata": {},
     "output_type": "display_data"
    },
    {
     "data": {
      "text/html": [
       "<pre style=\"white-space:pre;overflow-x:auto;line-height:normal;font-family:Menlo,'DejaVu Sans Mono',consolas,'Courier New',monospace\"></pre>\n"
      ],
      "text/plain": []
     },
     "metadata": {},
     "output_type": "display_data"
    },
    {
     "data": {
      "text/html": [
       "<pre style=\"white-space:pre;overflow-x:auto;line-height:normal;font-family:Menlo,'DejaVu Sans Mono',consolas,'Courier New',monospace\">\n",
       "</pre>\n"
      ],
      "text/plain": [
       "\n"
      ]
     },
     "metadata": {},
     "output_type": "display_data"
    },
    {
     "name": "stderr",
     "output_type": "stream",
     "text": [
      "No artists with labels found to put in legend.  Note that artists whose label start with an underscore are ignored when legend() is called with no argument.\n",
      "No artists with labels found to put in legend.  Note that artists whose label start with an underscore are ignored when legend() is called with no argument.\n"
     ]
    },
    {
     "name": "stdout",
     "output_type": "stream",
     "text": [
      "Saved /srv/figures/all_but_one/2_trigers_only/MC/2022/ggF//ht_trigger_soup.png\n"
     ]
    },
    {
     "name": "stderr",
     "output_type": "stream",
     "text": [
      "No artists with labels found to put in legend.  Note that artists whose label start with an underscore are ignored when legend() is called with no argument.\n"
     ]
    },
    {
     "name": "stdout",
     "output_type": "stream",
     "text": [
      "Saved /srv/figures/all_but_one/2_trigers_only/MC/2022/ggF//pt_trigger_soup.png\n"
     ]
    },
    {
     "name": "stderr",
     "output_type": "stream",
     "text": [
      "No artists with labels found to put in legend.  Note that artists whose label start with an underscore are ignored when legend() is called with no argument.\n"
     ]
    },
    {
     "name": "stdout",
     "output_type": "stream",
     "text": [
      "Saved /srv/figures/all_but_one/2_trigers_only/MC/2022/ggF//msd_trigger_soup.png\n"
     ]
    },
    {
     "name": "stderr",
     "output_type": "stream",
     "text": [
      "No artists with labels found to put in legend.  Note that artists whose label start with an underscore are ignored when legend() is called with no argument.\n"
     ]
    },
    {
     "name": "stdout",
     "output_type": "stream",
     "text": [
      "Saved /srv/figures/all_but_one/2_trigers_only/MC/2022/ggF//num_ak4_trigger_soup.png\n"
     ]
    },
    {
     "name": "stderr",
     "output_type": "stream",
     "text": [
      "No artists with labels found to put in legend.  Note that artists whose label start with an underscore are ignored when legend() is called with no argument.\n"
     ]
    },
    {
     "name": "stdout",
     "output_type": "stream",
     "text": [
      "Saved /srv/figures/all_but_one/2_trigers_only/MC/2022/ggF//gen_H_pt_trigger_soup.png\n",
      "Saved /srv/figures/all_but_one/2_trigers_only/MC/2022/ggF//particleNet_XbbVsQCD_trigger_soup.png\n",
      "Processing period 2022EE\n",
      "Currently processing production mode VBF\n",
      "Trigger combinations: [('All_triggers', ['AK8PFJet250_SoftDropMass40_PFAK8ParticleNetBB0p35', 'QuadPFJet70_50_40_35_PFBTagParticleNet_2BTagSum0p65']), ('Without_AK8PFJet250_SoftDropMass40_PFAK8ParticleNetBB0p35', ['QuadPFJet70_50_40_35_PFBTagParticleNet_2BTagSum0p65']), ('Without_QuadPFJet70_50_40_35_PFBTagParticleNet_2BTagSum0p65', ['AK8PFJet250_SoftDropMass40_PFAK8ParticleNetBB0p35'])]\n"
     ]
    },
    {
     "data": {
      "application/vnd.jupyter.widget-view+json": {
       "model_id": "fe9f7e91daa54c0da9bbabacd4e997ca",
       "version_major": 2,
       "version_minor": 0
      },
      "text/plain": [
       "Output()"
      ]
     },
     "metadata": {},
     "output_type": "display_data"
    },
    {
     "data": {
      "text/html": [
       "<pre style=\"white-space:pre;overflow-x:auto;line-height:normal;font-family:Menlo,'DejaVu Sans Mono',consolas,'Courier New',monospace\"></pre>\n"
      ],
      "text/plain": []
     },
     "metadata": {},
     "output_type": "display_data"
    },
    {
     "data": {
      "text/html": [
       "<pre style=\"white-space:pre;overflow-x:auto;line-height:normal;font-family:Menlo,'DejaVu Sans Mono',consolas,'Courier New',monospace\">\n",
       "</pre>\n"
      ],
      "text/plain": [
       "\n"
      ]
     },
     "metadata": {},
     "output_type": "display_data"
    },
    {
     "data": {
      "application/vnd.jupyter.widget-view+json": {
       "model_id": "781c91332bf1404790fbb7f3854a806d",
       "version_major": 2,
       "version_minor": 0
      },
      "text/plain": [
       "Output()"
      ]
     },
     "metadata": {},
     "output_type": "display_data"
    },
    {
     "data": {
      "text/html": [
       "<pre style=\"white-space:pre;overflow-x:auto;line-height:normal;font-family:Menlo,'DejaVu Sans Mono',consolas,'Courier New',monospace\"></pre>\n"
      ],
      "text/plain": []
     },
     "metadata": {},
     "output_type": "display_data"
    },
    {
     "data": {
      "text/html": [
       "<pre style=\"white-space:pre;overflow-x:auto;line-height:normal;font-family:Menlo,'DejaVu Sans Mono',consolas,'Courier New',monospace\">\n",
       "</pre>\n"
      ],
      "text/plain": [
       "\n"
      ]
     },
     "metadata": {},
     "output_type": "display_data"
    },
    {
     "name": "stderr",
     "output_type": "stream",
     "text": [
      "No artists with labels found to put in legend.  Note that artists whose label start with an underscore are ignored when legend() is called with no argument.\n",
      "No artists with labels found to put in legend.  Note that artists whose label start with an underscore are ignored when legend() is called with no argument.\n"
     ]
    },
    {
     "name": "stdout",
     "output_type": "stream",
     "text": [
      "Saved /srv/figures/all_but_one/2_trigers_only/MC/2022EE/VBF//ht_trigger_soup.png\n"
     ]
    },
    {
     "name": "stderr",
     "output_type": "stream",
     "text": [
      "No artists with labels found to put in legend.  Note that artists whose label start with an underscore are ignored when legend() is called with no argument.\n"
     ]
    },
    {
     "name": "stdout",
     "output_type": "stream",
     "text": [
      "Saved /srv/figures/all_but_one/2_trigers_only/MC/2022EE/VBF//pt_trigger_soup.png\n"
     ]
    },
    {
     "name": "stderr",
     "output_type": "stream",
     "text": [
      "No artists with labels found to put in legend.  Note that artists whose label start with an underscore are ignored when legend() is called with no argument.\n"
     ]
    },
    {
     "name": "stdout",
     "output_type": "stream",
     "text": [
      "Saved /srv/figures/all_but_one/2_trigers_only/MC/2022EE/VBF//msd_trigger_soup.png\n"
     ]
    },
    {
     "name": "stderr",
     "output_type": "stream",
     "text": [
      "No artists with labels found to put in legend.  Note that artists whose label start with an underscore are ignored when legend() is called with no argument.\n"
     ]
    },
    {
     "name": "stdout",
     "output_type": "stream",
     "text": [
      "Saved /srv/figures/all_but_one/2_trigers_only/MC/2022EE/VBF//num_ak4_trigger_soup.png\n"
     ]
    },
    {
     "name": "stderr",
     "output_type": "stream",
     "text": [
      "No artists with labels found to put in legend.  Note that artists whose label start with an underscore are ignored when legend() is called with no argument.\n"
     ]
    },
    {
     "name": "stdout",
     "output_type": "stream",
     "text": [
      "Saved /srv/figures/all_but_one/2_trigers_only/MC/2022EE/VBF//gen_H_pt_trigger_soup.png\n",
      "Saved /srv/figures/all_but_one/2_trigers_only/MC/2022EE/VBF//particleNet_XbbVsQCD_trigger_soup.png\n",
      "Currently processing production mode ggF\n",
      "Trigger combinations: [('All_triggers', ['AK8PFJet250_SoftDropMass40_PFAK8ParticleNetBB0p35', 'QuadPFJet70_50_40_35_PFBTagParticleNet_2BTagSum0p65']), ('Without_AK8PFJet250_SoftDropMass40_PFAK8ParticleNetBB0p35', ['QuadPFJet70_50_40_35_PFBTagParticleNet_2BTagSum0p65']), ('Without_QuadPFJet70_50_40_35_PFBTagParticleNet_2BTagSum0p65', ['AK8PFJet250_SoftDropMass40_PFAK8ParticleNetBB0p35'])]\n"
     ]
    },
    {
     "data": {
      "application/vnd.jupyter.widget-view+json": {
       "model_id": "d47c9b3d760f41e892e35ffa1bcdc5ad",
       "version_major": 2,
       "version_minor": 0
      },
      "text/plain": [
       "Output()"
      ]
     },
     "metadata": {},
     "output_type": "display_data"
    },
    {
     "data": {
      "text/html": [
       "<pre style=\"white-space:pre;overflow-x:auto;line-height:normal;font-family:Menlo,'DejaVu Sans Mono',consolas,'Courier New',monospace\"></pre>\n"
      ],
      "text/plain": []
     },
     "metadata": {},
     "output_type": "display_data"
    },
    {
     "data": {
      "text/html": [
       "<pre style=\"white-space:pre;overflow-x:auto;line-height:normal;font-family:Menlo,'DejaVu Sans Mono',consolas,'Courier New',monospace\">\n",
       "</pre>\n"
      ],
      "text/plain": [
       "\n"
      ]
     },
     "metadata": {},
     "output_type": "display_data"
    },
    {
     "data": {
      "application/vnd.jupyter.widget-view+json": {
       "model_id": "af135a78c77442fea257a95b5b057d5c",
       "version_major": 2,
       "version_minor": 0
      },
      "text/plain": [
       "Output()"
      ]
     },
     "metadata": {},
     "output_type": "display_data"
    },
    {
     "data": {
      "text/html": [
       "<pre style=\"white-space:pre;overflow-x:auto;line-height:normal;font-family:Menlo,'DejaVu Sans Mono',consolas,'Courier New',monospace\"></pre>\n"
      ],
      "text/plain": []
     },
     "metadata": {},
     "output_type": "display_data"
    },
    {
     "data": {
      "text/html": [
       "<pre style=\"white-space:pre;overflow-x:auto;line-height:normal;font-family:Menlo,'DejaVu Sans Mono',consolas,'Courier New',monospace\">\n",
       "</pre>\n"
      ],
      "text/plain": [
       "\n"
      ]
     },
     "metadata": {},
     "output_type": "display_data"
    },
    {
     "name": "stderr",
     "output_type": "stream",
     "text": [
      "No artists with labels found to put in legend.  Note that artists whose label start with an underscore are ignored when legend() is called with no argument.\n",
      "No artists with labels found to put in legend.  Note that artists whose label start with an underscore are ignored when legend() is called with no argument.\n"
     ]
    },
    {
     "name": "stdout",
     "output_type": "stream",
     "text": [
      "Saved /srv/figures/all_but_one/2_trigers_only/MC/2022EE/ggF//ht_trigger_soup.png\n"
     ]
    },
    {
     "name": "stderr",
     "output_type": "stream",
     "text": [
      "No artists with labels found to put in legend.  Note that artists whose label start with an underscore are ignored when legend() is called with no argument.\n"
     ]
    },
    {
     "name": "stdout",
     "output_type": "stream",
     "text": [
      "Saved /srv/figures/all_but_one/2_trigers_only/MC/2022EE/ggF//pt_trigger_soup.png\n"
     ]
    },
    {
     "name": "stderr",
     "output_type": "stream",
     "text": [
      "No artists with labels found to put in legend.  Note that artists whose label start with an underscore are ignored when legend() is called with no argument.\n"
     ]
    },
    {
     "name": "stdout",
     "output_type": "stream",
     "text": [
      "Saved /srv/figures/all_but_one/2_trigers_only/MC/2022EE/ggF//msd_trigger_soup.png\n"
     ]
    },
    {
     "name": "stderr",
     "output_type": "stream",
     "text": [
      "No artists with labels found to put in legend.  Note that artists whose label start with an underscore are ignored when legend() is called with no argument.\n"
     ]
    },
    {
     "name": "stdout",
     "output_type": "stream",
     "text": [
      "Saved /srv/figures/all_but_one/2_trigers_only/MC/2022EE/ggF//num_ak4_trigger_soup.png\n"
     ]
    },
    {
     "name": "stderr",
     "output_type": "stream",
     "text": [
      "No artists with labels found to put in legend.  Note that artists whose label start with an underscore are ignored when legend() is called with no argument.\n"
     ]
    },
    {
     "name": "stdout",
     "output_type": "stream",
     "text": [
      "Saved /srv/figures/all_but_one/2_trigers_only/MC/2022EE/ggF//gen_H_pt_trigger_soup.png\n",
      "Saved /srv/figures/all_but_one/2_trigers_only/MC/2022EE/ggF//particleNet_XbbVsQCD_trigger_soup.png\n"
     ]
    }
   ],
   "source": [
    "# for year in ['2023', '2023BPix', '2022EE']:\n",
    "for year in ['2023', '2023BPix', '2022', '2022EE']:\n",
    "# for year in ['2022']:\n",
    "# for year in ['2023', '2023BPix']:\n",
    "    print(f'Processing period {year}')\n",
    "    all_triggers = trigger_dict_periods[year]\n",
    "    file_dict = {'VBF': \"VBF_Hto2B\", 'ggF': \"GluGlu_Hto2B\"}\n",
    "    outputs = {key_prod: [] for key_prod in file_dict.keys()}\n",
    "    for prod_mode, file_name in file_dict.items():\n",
    "        print(\"Currently processing production mode\", prod_mode)\n",
    "        with open(f'/srv/{year}/{year}_{prod_mode}.json', 'r') as file:\n",
    "            data = json.load(file)\n",
    "        samples = data[file_name]\n",
    "        samples = samples[:50]\n",
    "        iterative_run = processor.Runner(\n",
    "                executor = processor.FuturesExecutor(compression=None, workers=2),\n",
    "                schema=NanoAODSchema,\n",
    "                skipbadfiles=True,  # Skip files that fail to open\n",
    "                savemetrics=True,   # Save metrics to understand where failures occur\n",
    "        )\n",
    "        fileset = {\"Dataset\" : samples}\n",
    "        out = iterative_run(\n",
    "            fileset,\n",
    "            treename=\"Events\",\n",
    "            processor_instance=TriggerSoupProcessor(all_triggers, trig_vars, baseline_key=prod_mode),\n",
    "        )\n",
    "        output = out[0]\n",
    "        outputs[prod_mode] = output\n",
    "    \n",
    "        save_dir = f\"/srv/figures/all_but_one/2_trigers_only/MC/{year}/{prod_mode}/\"\n",
    "        plot_1d_trigger_soup_cms(output, trig_vars, save_dir=save_dir, year=year, data=False, show_img=False)\n",
    "        "
   ]
  },
  {
   "cell_type": "markdown",
   "id": "3892538e-99b4-49e2-a9e2-f589c92f08d9",
   "metadata": {},
   "source": [
    "## Data"
   ]
  },
  {
   "cell_type": "code",
   "execution_count": 9,
   "id": "a54d6982-97bc-4d7e-a9e3-6d7b8b128597",
   "metadata": {
    "execution": {
     "iopub.execute_input": "2025-06-05T21:34:11.419789Z",
     "iopub.status.busy": "2025-06-05T21:34:11.419624Z",
     "iopub.status.idle": "2025-06-05T21:34:11.423774Z",
     "shell.execute_reply": "2025-06-05T21:34:11.423137Z",
     "shell.execute_reply.started": "2025-06-05T21:34:11.419771Z"
    }
   },
   "outputs": [],
   "source": [
    "file_dict_periods = {'2022': {'JetData': \"JetMET_Run2022C\", 'MuonData': \"Muon_Run2022C\"},\n",
    "                     '2022EE': {'JetData': \"JetMET_Run2022E\", 'MuonData': \"Muon_Run2022E\"},\n",
    "                     '2023': {'JetData': \"JetMET0_Run2023C-v4\", 'MuonData': \"Muon0_Run2023C-v4\"},\n",
    "                     '2023BPix': {'JetData': \"JetMET0_Run2023D-v1\", 'MuonData': \"Muon0_Run2023D-v1\"}\n",
    "                    }"
   ]
  },
  {
   "cell_type": "code",
   "execution_count": 10,
   "id": "8d5d72b1-e06c-4d54-be69-df1b1647d2f2",
   "metadata": {
    "execution": {
     "iopub.execute_input": "2025-06-05T21:34:11.425233Z",
     "iopub.status.busy": "2025-06-05T21:34:11.425077Z",
     "iopub.status.idle": "2025-06-05T22:28:02.332176Z",
     "shell.execute_reply": "2025-06-05T22:28:02.330593Z",
     "shell.execute_reply.started": "2025-06-05T21:34:11.425218Z"
    }
   },
   "outputs": [
    {
     "name": "stdout",
     "output_type": "stream",
     "text": [
      "Processing period 2023\n",
      "Currently processing production mode JetData\n",
      "Trigger combinations: [('All_triggers', ['AK8PFJet250_SoftDropMass40_PNetBB0p06', 'VBF_DiPFJet125_45_Mjj720_Detajj3p0']), ('Without_AK8PFJet250_SoftDropMass40_PNetBB0p06', ['VBF_DiPFJet125_45_Mjj720_Detajj3p0']), ('Without_VBF_DiPFJet125_45_Mjj720_Detajj3p0', ['AK8PFJet250_SoftDropMass40_PNetBB0p06'])]\n"
     ]
    },
    {
     "data": {
      "application/vnd.jupyter.widget-view+json": {
       "model_id": "7fe5beb216ca4eb2a2000f634715f3f8",
       "version_major": 2,
       "version_minor": 0
      },
      "text/plain": [
       "Output()"
      ]
     },
     "metadata": {},
     "output_type": "display_data"
    },
    {
     "data": {
      "text/html": [
       "<pre style=\"white-space:pre;overflow-x:auto;line-height:normal;font-family:Menlo,'DejaVu Sans Mono',consolas,'Courier New',monospace\"></pre>\n"
      ],
      "text/plain": []
     },
     "metadata": {},
     "output_type": "display_data"
    },
    {
     "data": {
      "text/html": [
       "<pre style=\"white-space:pre;overflow-x:auto;line-height:normal;font-family:Menlo,'DejaVu Sans Mono',consolas,'Courier New',monospace\">\n",
       "</pre>\n"
      ],
      "text/plain": [
       "\n"
      ]
     },
     "metadata": {},
     "output_type": "display_data"
    },
    {
     "name": "stderr",
     "output_type": "stream",
     "text": [
      "No artists with labels found to put in legend.  Note that artists whose label start with an underscore are ignored when legend() is called with no argument.\n",
      "No artists with labels found to put in legend.  Note that artists whose label start with an underscore are ignored when legend() is called with no argument.\n"
     ]
    },
    {
     "name": "stdout",
     "output_type": "stream",
     "text": [
      "Saved /srv/figures/all_but_one/2_trigers_only/Data/2023/JetData/ht_trigger_soup.png\n"
     ]
    },
    {
     "name": "stderr",
     "output_type": "stream",
     "text": [
      "No artists with labels found to put in legend.  Note that artists whose label start with an underscore are ignored when legend() is called with no argument.\n"
     ]
    },
    {
     "name": "stdout",
     "output_type": "stream",
     "text": [
      "Saved /srv/figures/all_but_one/2_trigers_only/Data/2023/JetData/pt_trigger_soup.png\n"
     ]
    },
    {
     "name": "stderr",
     "output_type": "stream",
     "text": [
      "No artists with labels found to put in legend.  Note that artists whose label start with an underscore are ignored when legend() is called with no argument.\n"
     ]
    },
    {
     "name": "stdout",
     "output_type": "stream",
     "text": [
      "Saved /srv/figures/all_but_one/2_trigers_only/Data/2023/JetData/msd_trigger_soup.png\n"
     ]
    },
    {
     "name": "stderr",
     "output_type": "stream",
     "text": [
      "No artists with labels found to put in legend.  Note that artists whose label start with an underscore are ignored when legend() is called with no argument.\n"
     ]
    },
    {
     "name": "stdout",
     "output_type": "stream",
     "text": [
      "Saved /srv/figures/all_but_one/2_trigers_only/Data/2023/JetData/num_ak4_trigger_soup.png\n",
      "Saved /srv/figures/all_but_one/2_trigers_only/Data/2023/JetData/particleNet_XbbVsQCD_trigger_soup.png\n",
      "Currently processing production mode MuonData\n",
      "Trigger combinations: [('All_triggers', ['AK8PFJet250_SoftDropMass40_PNetBB0p06', 'VBF_DiPFJet125_45_Mjj720_Detajj3p0']), ('Without_AK8PFJet250_SoftDropMass40_PNetBB0p06', ['VBF_DiPFJet125_45_Mjj720_Detajj3p0']), ('Without_VBF_DiPFJet125_45_Mjj720_Detajj3p0', ['AK8PFJet250_SoftDropMass40_PNetBB0p06'])]\n"
     ]
    },
    {
     "data": {
      "application/vnd.jupyter.widget-view+json": {
       "model_id": "7848d5a8ec814bb8bb32b47ad543b2bc",
       "version_major": 2,
       "version_minor": 0
      },
      "text/plain": [
       "Output()"
      ]
     },
     "metadata": {},
     "output_type": "display_data"
    },
    {
     "data": {
      "text/html": [
       "<pre style=\"white-space:pre;overflow-x:auto;line-height:normal;font-family:Menlo,'DejaVu Sans Mono',consolas,'Courier New',monospace\"></pre>\n"
      ],
      "text/plain": []
     },
     "metadata": {},
     "output_type": "display_data"
    },
    {
     "data": {
      "text/html": [
       "<pre style=\"white-space:pre;overflow-x:auto;line-height:normal;font-family:Menlo,'DejaVu Sans Mono',consolas,'Courier New',monospace\">\n",
       "</pre>\n"
      ],
      "text/plain": [
       "\n"
      ]
     },
     "metadata": {},
     "output_type": "display_data"
    },
    {
     "name": "stderr",
     "output_type": "stream",
     "text": [
      "No artists with labels found to put in legend.  Note that artists whose label start with an underscore are ignored when legend() is called with no argument.\n",
      "No artists with labels found to put in legend.  Note that artists whose label start with an underscore are ignored when legend() is called with no argument.\n"
     ]
    },
    {
     "name": "stdout",
     "output_type": "stream",
     "text": [
      "Saved /srv/figures/all_but_one/2_trigers_only/Data/2023/MuonData/ht_trigger_soup.png\n"
     ]
    },
    {
     "name": "stderr",
     "output_type": "stream",
     "text": [
      "No artists with labels found to put in legend.  Note that artists whose label start with an underscore are ignored when legend() is called with no argument.\n"
     ]
    },
    {
     "name": "stdout",
     "output_type": "stream",
     "text": [
      "Saved /srv/figures/all_but_one/2_trigers_only/Data/2023/MuonData/pt_trigger_soup.png\n"
     ]
    },
    {
     "name": "stderr",
     "output_type": "stream",
     "text": [
      "No artists with labels found to put in legend.  Note that artists whose label start with an underscore are ignored when legend() is called with no argument.\n"
     ]
    },
    {
     "name": "stdout",
     "output_type": "stream",
     "text": [
      "Saved /srv/figures/all_but_one/2_trigers_only/Data/2023/MuonData/msd_trigger_soup.png\n"
     ]
    },
    {
     "name": "stderr",
     "output_type": "stream",
     "text": [
      "No artists with labels found to put in legend.  Note that artists whose label start with an underscore are ignored when legend() is called with no argument.\n"
     ]
    },
    {
     "name": "stdout",
     "output_type": "stream",
     "text": [
      "Saved /srv/figures/all_but_one/2_trigers_only/Data/2023/MuonData/num_ak4_trigger_soup.png\n",
      "Saved /srv/figures/all_but_one/2_trigers_only/Data/2023/MuonData/particleNet_XbbVsQCD_trigger_soup.png\n",
      "Processing period 2023BPix\n",
      "Currently processing production mode JetData\n",
      "Trigger combinations: [('All_triggers', ['AK8PFJet250_SoftDropMass40_PNetBB0p06', 'VBF_DiPFJet125_45_Mjj720_Detajj3p0']), ('Without_AK8PFJet250_SoftDropMass40_PNetBB0p06', ['VBF_DiPFJet125_45_Mjj720_Detajj3p0']), ('Without_VBF_DiPFJet125_45_Mjj720_Detajj3p0', ['AK8PFJet250_SoftDropMass40_PNetBB0p06'])]\n"
     ]
    },
    {
     "data": {
      "application/vnd.jupyter.widget-view+json": {
       "model_id": "a65abe719e1d48f2a4df2ce24221c275",
       "version_major": 2,
       "version_minor": 0
      },
      "text/plain": [
       "Output()"
      ]
     },
     "metadata": {},
     "output_type": "display_data"
    },
    {
     "data": {
      "text/html": [
       "<pre style=\"white-space:pre;overflow-x:auto;line-height:normal;font-family:Menlo,'DejaVu Sans Mono',consolas,'Courier New',monospace\"></pre>\n"
      ],
      "text/plain": []
     },
     "metadata": {},
     "output_type": "display_data"
    },
    {
     "data": {
      "text/html": [
       "<pre style=\"white-space:pre;overflow-x:auto;line-height:normal;font-family:Menlo,'DejaVu Sans Mono',consolas,'Courier New',monospace\">\n",
       "</pre>\n"
      ],
      "text/plain": [
       "\n"
      ]
     },
     "metadata": {},
     "output_type": "display_data"
    },
    {
     "name": "stderr",
     "output_type": "stream",
     "text": [
      "No artists with labels found to put in legend.  Note that artists whose label start with an underscore are ignored when legend() is called with no argument.\n",
      "No artists with labels found to put in legend.  Note that artists whose label start with an underscore are ignored when legend() is called with no argument.\n"
     ]
    },
    {
     "name": "stdout",
     "output_type": "stream",
     "text": [
      "Saved /srv/figures/all_but_one/2_trigers_only/Data/2023BPix/JetData/ht_trigger_soup.png\n"
     ]
    },
    {
     "name": "stderr",
     "output_type": "stream",
     "text": [
      "No artists with labels found to put in legend.  Note that artists whose label start with an underscore are ignored when legend() is called with no argument.\n"
     ]
    },
    {
     "name": "stdout",
     "output_type": "stream",
     "text": [
      "Saved /srv/figures/all_but_one/2_trigers_only/Data/2023BPix/JetData/pt_trigger_soup.png\n"
     ]
    },
    {
     "name": "stderr",
     "output_type": "stream",
     "text": [
      "No artists with labels found to put in legend.  Note that artists whose label start with an underscore are ignored when legend() is called with no argument.\n"
     ]
    },
    {
     "name": "stdout",
     "output_type": "stream",
     "text": [
      "Saved /srv/figures/all_but_one/2_trigers_only/Data/2023BPix/JetData/msd_trigger_soup.png\n"
     ]
    },
    {
     "name": "stderr",
     "output_type": "stream",
     "text": [
      "No artists with labels found to put in legend.  Note that artists whose label start with an underscore are ignored when legend() is called with no argument.\n"
     ]
    },
    {
     "name": "stdout",
     "output_type": "stream",
     "text": [
      "Saved /srv/figures/all_but_one/2_trigers_only/Data/2023BPix/JetData/num_ak4_trigger_soup.png\n",
      "Saved /srv/figures/all_but_one/2_trigers_only/Data/2023BPix/JetData/particleNet_XbbVsQCD_trigger_soup.png\n",
      "Currently processing production mode MuonData\n",
      "Trigger combinations: [('All_triggers', ['AK8PFJet250_SoftDropMass40_PNetBB0p06', 'VBF_DiPFJet125_45_Mjj720_Detajj3p0']), ('Without_AK8PFJet250_SoftDropMass40_PNetBB0p06', ['VBF_DiPFJet125_45_Mjj720_Detajj3p0']), ('Without_VBF_DiPFJet125_45_Mjj720_Detajj3p0', ['AK8PFJet250_SoftDropMass40_PNetBB0p06'])]\n"
     ]
    },
    {
     "data": {
      "application/vnd.jupyter.widget-view+json": {
       "model_id": "9ba7586f5c1d4f5d95639905070917f9",
       "version_major": 2,
       "version_minor": 0
      },
      "text/plain": [
       "Output()"
      ]
     },
     "metadata": {},
     "output_type": "display_data"
    },
    {
     "data": {
      "text/html": [
       "<pre style=\"white-space:pre;overflow-x:auto;line-height:normal;font-family:Menlo,'DejaVu Sans Mono',consolas,'Courier New',monospace\"></pre>\n"
      ],
      "text/plain": []
     },
     "metadata": {},
     "output_type": "display_data"
    },
    {
     "data": {
      "text/html": [
       "<pre style=\"white-space:pre;overflow-x:auto;line-height:normal;font-family:Menlo,'DejaVu Sans Mono',consolas,'Courier New',monospace\">\n",
       "</pre>\n"
      ],
      "text/plain": [
       "\n"
      ]
     },
     "metadata": {},
     "output_type": "display_data"
    },
    {
     "data": {
      "application/vnd.jupyter.widget-view+json": {
       "model_id": "5ec265517ffe4607861a15de988fe96d",
       "version_major": 2,
       "version_minor": 0
      },
      "text/plain": [
       "Output()"
      ]
     },
     "metadata": {},
     "output_type": "display_data"
    },
    {
     "data": {
      "text/html": [
       "<pre style=\"white-space:pre;overflow-x:auto;line-height:normal;font-family:Menlo,'DejaVu Sans Mono',consolas,'Courier New',monospace\"></pre>\n"
      ],
      "text/plain": []
     },
     "metadata": {},
     "output_type": "display_data"
    },
    {
     "data": {
      "text/html": [
       "<pre style=\"white-space:pre;overflow-x:auto;line-height:normal;font-family:Menlo,'DejaVu Sans Mono',consolas,'Courier New',monospace\">\n",
       "</pre>\n"
      ],
      "text/plain": [
       "\n"
      ]
     },
     "metadata": {},
     "output_type": "display_data"
    },
    {
     "name": "stderr",
     "output_type": "stream",
     "text": [
      "No artists with labels found to put in legend.  Note that artists whose label start with an underscore are ignored when legend() is called with no argument.\n",
      "No artists with labels found to put in legend.  Note that artists whose label start with an underscore are ignored when legend() is called with no argument.\n"
     ]
    },
    {
     "name": "stdout",
     "output_type": "stream",
     "text": [
      "Saved /srv/figures/all_but_one/2_trigers_only/Data/2023BPix/MuonData/ht_trigger_soup.png\n"
     ]
    },
    {
     "name": "stderr",
     "output_type": "stream",
     "text": [
      "No artists with labels found to put in legend.  Note that artists whose label start with an underscore are ignored when legend() is called with no argument.\n"
     ]
    },
    {
     "name": "stdout",
     "output_type": "stream",
     "text": [
      "Saved /srv/figures/all_but_one/2_trigers_only/Data/2023BPix/MuonData/pt_trigger_soup.png\n"
     ]
    },
    {
     "name": "stderr",
     "output_type": "stream",
     "text": [
      "No artists with labels found to put in legend.  Note that artists whose label start with an underscore are ignored when legend() is called with no argument.\n"
     ]
    },
    {
     "name": "stdout",
     "output_type": "stream",
     "text": [
      "Saved /srv/figures/all_but_one/2_trigers_only/Data/2023BPix/MuonData/msd_trigger_soup.png\n"
     ]
    },
    {
     "name": "stderr",
     "output_type": "stream",
     "text": [
      "No artists with labels found to put in legend.  Note that artists whose label start with an underscore are ignored when legend() is called with no argument.\n"
     ]
    },
    {
     "name": "stdout",
     "output_type": "stream",
     "text": [
      "Saved /srv/figures/all_but_one/2_trigers_only/Data/2023BPix/MuonData/num_ak4_trigger_soup.png\n",
      "Saved /srv/figures/all_but_one/2_trigers_only/Data/2023BPix/MuonData/particleNet_XbbVsQCD_trigger_soup.png\n",
      "Processing period 2022EE\n",
      "Currently processing production mode JetData\n",
      "Trigger combinations: [('All_triggers', ['AK8PFJet250_SoftDropMass40_PFAK8ParticleNetBB0p35', 'QuadPFJet70_50_40_35_PFBTagParticleNet_2BTagSum0p65']), ('Without_AK8PFJet250_SoftDropMass40_PFAK8ParticleNetBB0p35', ['QuadPFJet70_50_40_35_PFBTagParticleNet_2BTagSum0p65']), ('Without_QuadPFJet70_50_40_35_PFBTagParticleNet_2BTagSum0p65', ['AK8PFJet250_SoftDropMass40_PFAK8ParticleNetBB0p35'])]\n"
     ]
    },
    {
     "data": {
      "application/vnd.jupyter.widget-view+json": {
       "model_id": "14b2e463e90b4acfb9d43e82e9992a0c",
       "version_major": 2,
       "version_minor": 0
      },
      "text/plain": [
       "Output()"
      ]
     },
     "metadata": {},
     "output_type": "display_data"
    },
    {
     "data": {
      "text/html": [
       "<pre style=\"white-space:pre;overflow-x:auto;line-height:normal;font-family:Menlo,'DejaVu Sans Mono',consolas,'Courier New',monospace\"></pre>\n"
      ],
      "text/plain": []
     },
     "metadata": {},
     "output_type": "display_data"
    },
    {
     "data": {
      "text/html": [
       "<pre style=\"white-space:pre;overflow-x:auto;line-height:normal;font-family:Menlo,'DejaVu Sans Mono',consolas,'Courier New',monospace\">\n",
       "</pre>\n"
      ],
      "text/plain": [
       "\n"
      ]
     },
     "metadata": {},
     "output_type": "display_data"
    },
    {
     "ename": "KeyboardInterrupt",
     "evalue": "",
     "output_type": "error",
     "traceback": [
      "\u001b[0;31m---------------------------------------------------------------------------\u001b[0m",
      "\u001b[0;31mKeyboardInterrupt\u001b[0m                         Traceback (most recent call last)",
      "Cell \u001b[0;32mIn[10], line 22\u001b[0m\n\u001b[1;32m     15\u001b[0m iterative_run \u001b[38;5;241m=\u001b[39m processor\u001b[38;5;241m.\u001b[39mRunner(\n\u001b[1;32m     16\u001b[0m         executor \u001b[38;5;241m=\u001b[39m processor\u001b[38;5;241m.\u001b[39mFuturesExecutor(compression\u001b[38;5;241m=\u001b[39m\u001b[38;5;28;01mNone\u001b[39;00m, workers\u001b[38;5;241m=\u001b[39m\u001b[38;5;241m2\u001b[39m),\n\u001b[1;32m     17\u001b[0m         schema\u001b[38;5;241m=\u001b[39mNanoAODSchema,\n\u001b[1;32m     18\u001b[0m         skipbadfiles\u001b[38;5;241m=\u001b[39m\u001b[38;5;28;01mTrue\u001b[39;00m,  \u001b[38;5;66;03m# Skip files that fail to open\u001b[39;00m\n\u001b[1;32m     19\u001b[0m         savemetrics\u001b[38;5;241m=\u001b[39m\u001b[38;5;28;01mTrue\u001b[39;00m,   \u001b[38;5;66;03m# Save metrics to understand where failures occur\u001b[39;00m\n\u001b[1;32m     20\u001b[0m )\n\u001b[1;32m     21\u001b[0m fileset \u001b[38;5;241m=\u001b[39m {\u001b[38;5;124m\"\u001b[39m\u001b[38;5;124mDataset\u001b[39m\u001b[38;5;124m\"\u001b[39m : samples}\n\u001b[0;32m---> 22\u001b[0m out \u001b[38;5;241m=\u001b[39m \u001b[43miterative_run\u001b[49m\u001b[43m(\u001b[49m\n\u001b[1;32m     23\u001b[0m \u001b[43m    \u001b[49m\u001b[43mfileset\u001b[49m\u001b[43m,\u001b[49m\n\u001b[1;32m     24\u001b[0m \u001b[43m    \u001b[49m\u001b[43mtreename\u001b[49m\u001b[38;5;241;43m=\u001b[39;49m\u001b[38;5;124;43m\"\u001b[39;49m\u001b[38;5;124;43mEvents\u001b[39;49m\u001b[38;5;124;43m\"\u001b[39;49m\u001b[43m,\u001b[49m\n\u001b[1;32m     25\u001b[0m \u001b[43m    \u001b[49m\u001b[43mprocessor_instance\u001b[49m\u001b[38;5;241;43m=\u001b[39;49m\u001b[43mTriggerSoupProcessor\u001b[49m\u001b[43m(\u001b[49m\u001b[43mall_triggers\u001b[49m\u001b[43m,\u001b[49m\u001b[43m \u001b[49m\u001b[43mtrig_vars_data\u001b[49m\u001b[43m,\u001b[49m\u001b[43m \u001b[49m\u001b[43mbaseline_key\u001b[49m\u001b[38;5;241;43m=\u001b[39;49m\u001b[38;5;124;43m'\u001b[39;49m\u001b[38;5;124;43mVBF\u001b[39;49m\u001b[38;5;124;43m'\u001b[39;49m\u001b[43m)\u001b[49m\u001b[43m,\u001b[49m\n\u001b[1;32m     26\u001b[0m \u001b[43m\u001b[49m\u001b[43m)\u001b[49m\n\u001b[1;32m     27\u001b[0m output \u001b[38;5;241m=\u001b[39m out[\u001b[38;5;241m0\u001b[39m]\n\u001b[1;32m     28\u001b[0m outputs[prod_mode] \u001b[38;5;241m=\u001b[39m output\n",
      "File \u001b[0;32m/opt/conda/lib/python3.9/site-packages/coffea/processor/executor.py:1700\u001b[0m, in \u001b[0;36mRunner.__call__\u001b[0;34m(self, fileset, treename, processor_instance)\u001b[0m\n\u001b[1;32m   1679\u001b[0m \u001b[38;5;28;01mdef\u001b[39;00m \u001b[38;5;21m__call__\u001b[39m(\n\u001b[1;32m   1680\u001b[0m     \u001b[38;5;28mself\u001b[39m,\n\u001b[1;32m   1681\u001b[0m     fileset: Dict,\n\u001b[1;32m   1682\u001b[0m     treename: \u001b[38;5;28mstr\u001b[39m,\n\u001b[1;32m   1683\u001b[0m     processor_instance: ProcessorABC,\n\u001b[1;32m   1684\u001b[0m ) \u001b[38;5;241m-\u001b[39m\u001b[38;5;241m>\u001b[39m Accumulatable:\n\u001b[1;32m   1685\u001b[0m \u001b[38;5;250m    \u001b[39m\u001b[38;5;124;03m\"\"\"Run the processor_instance on a given fileset\u001b[39;00m\n\u001b[1;32m   1686\u001b[0m \n\u001b[1;32m   1687\u001b[0m \u001b[38;5;124;03m    Parameters\u001b[39;00m\n\u001b[0;32m   (...)\u001b[0m\n\u001b[1;32m   1697\u001b[0m \u001b[38;5;124;03m            An instance of a class deriving from ProcessorABC\u001b[39;00m\n\u001b[1;32m   1698\u001b[0m \u001b[38;5;124;03m    \"\"\"\u001b[39;00m\n\u001b[0;32m-> 1700\u001b[0m     wrapped_out \u001b[38;5;241m=\u001b[39m \u001b[38;5;28;43mself\u001b[39;49m\u001b[38;5;241;43m.\u001b[39;49m\u001b[43mrun\u001b[49m\u001b[43m(\u001b[49m\u001b[43mfileset\u001b[49m\u001b[43m,\u001b[49m\u001b[43m \u001b[49m\u001b[43mprocessor_instance\u001b[49m\u001b[43m,\u001b[49m\u001b[43m \u001b[49m\u001b[43mtreename\u001b[49m\u001b[43m)\u001b[49m\n\u001b[1;32m   1701\u001b[0m     \u001b[38;5;28;01mif\u001b[39;00m \u001b[38;5;28mself\u001b[39m\u001b[38;5;241m.\u001b[39muse_dataframes:\n\u001b[1;32m   1702\u001b[0m         \u001b[38;5;28;01mreturn\u001b[39;00m wrapped_out  \u001b[38;5;66;03m# not wrapped anymore\u001b[39;00m\n",
      "File \u001b[0;32m/opt/conda/lib/python3.9/site-packages/coffea/processor/executor.py:1848\u001b[0m, in \u001b[0;36mRunner.run\u001b[0;34m(self, fileset, processor_instance, treename)\u001b[0m\n\u001b[1;32m   1843\u001b[0m closure \u001b[38;5;241m=\u001b[39m partial(\n\u001b[1;32m   1844\u001b[0m     \u001b[38;5;28mself\u001b[39m\u001b[38;5;241m.\u001b[39mautomatic_retries, \u001b[38;5;28mself\u001b[39m\u001b[38;5;241m.\u001b[39mretries, \u001b[38;5;28mself\u001b[39m\u001b[38;5;241m.\u001b[39mskipbadfiles, closure\n\u001b[1;32m   1845\u001b[0m )\n\u001b[1;32m   1847\u001b[0m executor \u001b[38;5;241m=\u001b[39m \u001b[38;5;28mself\u001b[39m\u001b[38;5;241m.\u001b[39mexecutor\u001b[38;5;241m.\u001b[39mcopy(\u001b[38;5;241m*\u001b[39m\u001b[38;5;241m*\u001b[39mexe_args)\n\u001b[0;32m-> 1848\u001b[0m wrapped_out, e \u001b[38;5;241m=\u001b[39m \u001b[43mexecutor\u001b[49m\u001b[43m(\u001b[49m\u001b[43mchunks\u001b[49m\u001b[43m,\u001b[49m\u001b[43m \u001b[49m\u001b[43mclosure\u001b[49m\u001b[43m,\u001b[49m\u001b[43m \u001b[49m\u001b[38;5;28;43;01mNone\u001b[39;49;00m\u001b[43m)\u001b[49m\n\u001b[1;32m   1849\u001b[0m \u001b[38;5;28;01mif\u001b[39;00m wrapped_out \u001b[38;5;129;01mis\u001b[39;00m \u001b[38;5;28;01mNone\u001b[39;00m:\n\u001b[1;32m   1850\u001b[0m     \u001b[38;5;28;01mraise\u001b[39;00m \u001b[38;5;167;01mValueError\u001b[39;00m(\n\u001b[1;32m   1851\u001b[0m         \u001b[38;5;124m\"\u001b[39m\u001b[38;5;124mNo chunks returned results, verify ``processor`` instance structure.\u001b[39m\u001b[38;5;130;01m\\n\u001b[39;00m\u001b[38;5;130;01m\\\u001b[39;00m\n\u001b[1;32m   1852\u001b[0m \u001b[38;5;124m        if you used skipbadfiles=True, it is possible all your files are bad.\u001b[39m\u001b[38;5;124m\"\u001b[39m\n\u001b[1;32m   1853\u001b[0m     )\n",
      "File \u001b[0;32m/opt/conda/lib/python3.9/site-packages/coffea/processor/executor.py:817\u001b[0m, in \u001b[0;36mFuturesExecutor.__call__\u001b[0;34m(self, items, function, accumulator)\u001b[0m\n\u001b[1;32m    815\u001b[0m \u001b[38;5;28;01melse\u001b[39;00m:\n\u001b[1;32m    816\u001b[0m     mergepoolinstance \u001b[38;5;241m=\u001b[39m \u001b[38;5;28;01mNone\u001b[39;00m\n\u001b[0;32m--> 817\u001b[0m \u001b[38;5;28;01mreturn\u001b[39;00m \u001b[43m_processwith\u001b[49m\u001b[43m(\u001b[49m\u001b[43mpool\u001b[49m\u001b[38;5;241;43m=\u001b[39;49m\u001b[43mpoolinstance\u001b[49m\u001b[43m,\u001b[49m\u001b[43m \u001b[49m\u001b[43mmergepool\u001b[49m\u001b[38;5;241;43m=\u001b[39;49m\u001b[43mmergepoolinstance\u001b[49m\u001b[43m)\u001b[49m\n",
      "File \u001b[0;32m/opt/conda/lib/python3.9/site-packages/coffea/processor/executor.py:786\u001b[0m, in \u001b[0;36mFuturesExecutor.__call__.<locals>._processwith\u001b[0;34m(pool, mergepool)\u001b[0m\n\u001b[1;32m    784\u001b[0m \u001b[38;5;28;01mtry\u001b[39;00m:\n\u001b[1;32m    785\u001b[0m     \u001b[38;5;28;01mif\u001b[39;00m mergepool \u001b[38;5;129;01mis\u001b[39;00m \u001b[38;5;28;01mNone\u001b[39;00m:\n\u001b[0;32m--> 786\u001b[0m         merged \u001b[38;5;241m=\u001b[39m \u001b[43m_watcher\u001b[49m\u001b[43m(\u001b[49m\u001b[43mFH\u001b[49m\u001b[43m,\u001b[49m\u001b[43m \u001b[49m\u001b[38;5;28;43mself\u001b[39;49m\u001b[43m,\u001b[49m\u001b[43m \u001b[49m\u001b[43mreducer\u001b[49m\u001b[43m,\u001b[49m\u001b[43m \u001b[49m\u001b[43mpool\u001b[49m\u001b[43m)\u001b[49m\n\u001b[1;32m    787\u001b[0m     \u001b[38;5;28;01melse\u001b[39;00m:\n\u001b[1;32m    788\u001b[0m         merged \u001b[38;5;241m=\u001b[39m _watcher(FH, \u001b[38;5;28mself\u001b[39m, reducer, mergepool)\n",
      "File \u001b[0;32m/opt/conda/lib/python3.9/site-packages/coffea/processor/executor.py:379\u001b[0m, in \u001b[0;36m_watcher\u001b[0;34m(FH, executor, merge_fcn, pool)\u001b[0m\n\u001b[1;32m    377\u001b[0m merged \u001b[38;5;241m=\u001b[39m \u001b[38;5;28;01mNone\u001b[39;00m\n\u001b[1;32m    378\u001b[0m \u001b[38;5;28;01mwhile\u001b[39;00m FH\u001b[38;5;241m.\u001b[39mrunning \u001b[38;5;241m>\u001b[39m \u001b[38;5;241m0\u001b[39m:\n\u001b[0;32m--> 379\u001b[0m     \u001b[43mFH\u001b[49m\u001b[38;5;241;43m.\u001b[39;49m\u001b[43mupdate\u001b[49m\u001b[43m(\u001b[49m\u001b[43m)\u001b[49m\n\u001b[1;32m    380\u001b[0m     progress\u001b[38;5;241m.\u001b[39mupdate(p_id, completed\u001b[38;5;241m=\u001b[39mFH\u001b[38;5;241m.\u001b[39mdone[\u001b[38;5;124m\"\u001b[39m\u001b[38;5;124mfutures\u001b[39m\u001b[38;5;124m\"\u001b[39m], refresh\u001b[38;5;241m=\u001b[39m\u001b[38;5;28;01mTrue\u001b[39;00m)\n\u001b[1;32m    382\u001b[0m     \u001b[38;5;28;01mif\u001b[39;00m executor\u001b[38;5;241m.\u001b[39mmerging:  \u001b[38;5;66;03m# Merge jobs\u001b[39;00m\n",
      "File \u001b[0;32m/opt/conda/lib/python3.9/site-packages/coffea/processor/executor.py:256\u001b[0m, in \u001b[0;36m_FuturesHolder.update\u001b[0;34m(self, refresh)\u001b[0m\n\u001b[1;32m    254\u001b[0m     refresh \u001b[38;5;241m=\u001b[39m \u001b[38;5;28mself\u001b[39m\u001b[38;5;241m.\u001b[39mrefresh\n\u001b[1;32m    255\u001b[0m \u001b[38;5;28;01mif\u001b[39;00m \u001b[38;5;28mself\u001b[39m\u001b[38;5;241m.\u001b[39mfutures:\n\u001b[0;32m--> 256\u001b[0m     completed, \u001b[38;5;28mself\u001b[39m\u001b[38;5;241m.\u001b[39mfutures \u001b[38;5;241m=\u001b[39m \u001b[43mconcurrent\u001b[49m\u001b[38;5;241;43m.\u001b[39;49m\u001b[43mfutures\u001b[49m\u001b[38;5;241;43m.\u001b[39;49m\u001b[43mwait\u001b[49m\u001b[43m(\u001b[49m\n\u001b[1;32m    257\u001b[0m \u001b[43m        \u001b[49m\u001b[38;5;28;43mself\u001b[39;49m\u001b[38;5;241;43m.\u001b[39;49m\u001b[43mfutures\u001b[49m\u001b[43m,\u001b[49m\n\u001b[1;32m    258\u001b[0m \u001b[43m        \u001b[49m\u001b[43mtimeout\u001b[49m\u001b[38;5;241;43m=\u001b[39;49m\u001b[43mrefresh\u001b[49m\u001b[43m,\u001b[49m\n\u001b[1;32m    259\u001b[0m \u001b[43m        \u001b[49m\u001b[43mreturn_when\u001b[49m\u001b[38;5;241;43m=\u001b[39;49m\u001b[43mconcurrent\u001b[49m\u001b[38;5;241;43m.\u001b[39;49m\u001b[43mfutures\u001b[49m\u001b[38;5;241;43m.\u001b[39;49m\u001b[43mFIRST_COMPLETED\u001b[49m\u001b[43m,\u001b[49m\n\u001b[1;32m    260\u001b[0m \u001b[43m    \u001b[49m\u001b[43m)\u001b[49m\n\u001b[1;32m    261\u001b[0m     \u001b[38;5;28mself\u001b[39m\u001b[38;5;241m.\u001b[39mcompleted\u001b[38;5;241m.\u001b[39mupdate(completed)\n\u001b[1;32m    262\u001b[0m     \u001b[38;5;28mself\u001b[39m\u001b[38;5;241m.\u001b[39mdone[\u001b[38;5;124m\"\u001b[39m\u001b[38;5;124mfutures\u001b[39m\u001b[38;5;124m\"\u001b[39m] \u001b[38;5;241m+\u001b[39m\u001b[38;5;241m=\u001b[39m \u001b[38;5;28mlen\u001b[39m(completed)\n",
      "File \u001b[0;32m/opt/conda/lib/python3.9/concurrent/futures/_base.py:307\u001b[0m, in \u001b[0;36mwait\u001b[0;34m(fs, timeout, return_when)\u001b[0m\n\u001b[1;32m    303\u001b[0m         \u001b[38;5;28;01mreturn\u001b[39;00m DoneAndNotDoneFutures(done, not_done)\n\u001b[1;32m    305\u001b[0m     waiter \u001b[38;5;241m=\u001b[39m _create_and_install_waiters(fs, return_when)\n\u001b[0;32m--> 307\u001b[0m \u001b[43mwaiter\u001b[49m\u001b[38;5;241;43m.\u001b[39;49m\u001b[43mevent\u001b[49m\u001b[38;5;241;43m.\u001b[39;49m\u001b[43mwait\u001b[49m\u001b[43m(\u001b[49m\u001b[43mtimeout\u001b[49m\u001b[43m)\u001b[49m\n\u001b[1;32m    308\u001b[0m \u001b[38;5;28;01mfor\u001b[39;00m f \u001b[38;5;129;01min\u001b[39;00m fs:\n\u001b[1;32m    309\u001b[0m     \u001b[38;5;28;01mwith\u001b[39;00m f\u001b[38;5;241m.\u001b[39m_condition:\n",
      "File \u001b[0;32m/opt/conda/lib/python3.9/threading.py:581\u001b[0m, in \u001b[0;36mEvent.wait\u001b[0;34m(self, timeout)\u001b[0m\n\u001b[1;32m    579\u001b[0m signaled \u001b[38;5;241m=\u001b[39m \u001b[38;5;28mself\u001b[39m\u001b[38;5;241m.\u001b[39m_flag\n\u001b[1;32m    580\u001b[0m \u001b[38;5;28;01mif\u001b[39;00m \u001b[38;5;129;01mnot\u001b[39;00m signaled:\n\u001b[0;32m--> 581\u001b[0m     signaled \u001b[38;5;241m=\u001b[39m \u001b[38;5;28;43mself\u001b[39;49m\u001b[38;5;241;43m.\u001b[39;49m\u001b[43m_cond\u001b[49m\u001b[38;5;241;43m.\u001b[39;49m\u001b[43mwait\u001b[49m\u001b[43m(\u001b[49m\u001b[43mtimeout\u001b[49m\u001b[43m)\u001b[49m\n\u001b[1;32m    582\u001b[0m \u001b[38;5;28;01mreturn\u001b[39;00m signaled\n",
      "File \u001b[0;32m/opt/conda/lib/python3.9/threading.py:316\u001b[0m, in \u001b[0;36mCondition.wait\u001b[0;34m(self, timeout)\u001b[0m\n\u001b[1;32m    314\u001b[0m \u001b[38;5;28;01melse\u001b[39;00m:\n\u001b[1;32m    315\u001b[0m     \u001b[38;5;28;01mif\u001b[39;00m timeout \u001b[38;5;241m>\u001b[39m \u001b[38;5;241m0\u001b[39m:\n\u001b[0;32m--> 316\u001b[0m         gotit \u001b[38;5;241m=\u001b[39m \u001b[43mwaiter\u001b[49m\u001b[38;5;241;43m.\u001b[39;49m\u001b[43macquire\u001b[49m\u001b[43m(\u001b[49m\u001b[38;5;28;43;01mTrue\u001b[39;49;00m\u001b[43m,\u001b[49m\u001b[43m \u001b[49m\u001b[43mtimeout\u001b[49m\u001b[43m)\u001b[49m\n\u001b[1;32m    317\u001b[0m     \u001b[38;5;28;01melse\u001b[39;00m:\n\u001b[1;32m    318\u001b[0m         gotit \u001b[38;5;241m=\u001b[39m waiter\u001b[38;5;241m.\u001b[39macquire(\u001b[38;5;28;01mFalse\u001b[39;00m)\n",
      "\u001b[0;31mKeyboardInterrupt\u001b[0m: "
     ]
    }
   ],
   "source": [
    "for year in ['2023', '2023BPix', '2022EE', '2022']:\n",
    "# for year in ['2022', '2022EE', '2023', '2023BPix']:\n",
    "# for year in ['2022']:\n",
    "# for year in ['2023', '2023BPix']:\n",
    "    print(f'Processing period {year}')\n",
    "    all_triggers = trigger_dict_periods[year]\n",
    "    file_dict = file_dict_periods[year]\n",
    "    outputs = {key_prod: [] for key_prod in file_dict.keys()}\n",
    "    for prod_mode, file_name in file_dict.items():\n",
    "        print(\"Currently processing production mode\", prod_mode)\n",
    "        with open(f'/srv/{year}/{year}_{prod_mode}.json', 'r') as file:\n",
    "            data = json.load(file)\n",
    "        samples = data[file_name]\n",
    "        samples = samples[:20]\n",
    "        iterative_run = processor.Runner(\n",
    "                executor = processor.FuturesExecutor(compression=None, workers=2),\n",
    "                schema=NanoAODSchema,\n",
    "                skipbadfiles=True,  # Skip files that fail to open\n",
    "                savemetrics=True,   # Save metrics to understand where failures occur\n",
    "        )\n",
    "        fileset = {\"Dataset\" : samples}\n",
    "        out = iterative_run(\n",
    "            fileset,\n",
    "            treename=\"Events\",\n",
    "            processor_instance=TriggerSoupProcessor(all_triggers, trig_vars_data, baseline_key='VBF'),\n",
    "        )\n",
    "        output = out[0]\n",
    "        outputs[prod_mode] = output\n",
    "    \n",
    "        save_dir = f\"/srv/figures/all_but_one/2_trigers_only/Data/{year}/{prod_mode}\"\n",
    "        plot_1d_trigger_soup_cms(output, trig_vars_data, save_dir=save_dir, year=year, data=True, show_img=False)\n",
    "        "
   ]
  },
  {
   "cell_type": "code",
   "execution_count": null,
   "id": "c80d0073-1382-4134-8f32-0c374c426f56",
   "metadata": {},
   "outputs": [],
   "source": []
  }
 ],
 "metadata": {
  "kernelspec": {
   "display_name": "Python 3 (ipykernel)",
   "language": "python",
   "name": "python3"
  },
  "language_info": {
   "codemirror_mode": {
    "name": "ipython",
    "version": 3
   },
   "file_extension": ".py",
   "mimetype": "text/x-python",
   "name": "python",
   "nbconvert_exporter": "python",
   "pygments_lexer": "ipython3",
   "version": "3.9.15"
  }
 },
 "nbformat": 4,
 "nbformat_minor": 5
}

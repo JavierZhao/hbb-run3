{
 "cells": [
  {
   "cell_type": "code",
   "execution_count": 1,
   "id": "037b1b1c-392a-457b-9ffd-662abb721855",
   "metadata": {
    "execution": {
     "iopub.execute_input": "2025-04-29T21:41:53.619513Z",
     "iopub.status.busy": "2025-04-29T21:41:53.618875Z",
     "iopub.status.idle": "2025-04-29T21:41:57.466989Z",
     "shell.execute_reply": "2025-04-29T21:41:57.466097Z",
     "shell.execute_reply.started": "2025-04-29T21:41:53.619484Z"
    }
   },
   "outputs": [
    {
     "name": "stdout",
     "output_type": "stream",
     "text": [
      "Found 0 files; first few:\n",
      " []\n"
     ]
    },
    {
     "ename": "RuntimeError",
     "evalue": "No ROOT files found for /JetHT/Run2022C-22Sep2023-v1/NANOAOD",
     "output_type": "error",
     "traceback": [
      "\u001b[0;31m---------------------------------------------------------------------------\u001b[0m",
      "\u001b[0;31mRuntimeError\u001b[0m                              Traceback (most recent call last)",
      "Cell \u001b[0;32mIn[1], line 49\u001b[0m\n\u001b[1;32m     47\u001b[0m     \u001b[38;5;28mprint\u001b[39m(df\u001b[38;5;241m.\u001b[39mhead())\n\u001b[1;32m     48\u001b[0m \u001b[38;5;28;01melse\u001b[39;00m:\n\u001b[0;32m---> 49\u001b[0m     \u001b[38;5;28;01mraise\u001b[39;00m \u001b[38;5;167;01mRuntimeError\u001b[39;00m(\u001b[38;5;124m\"\u001b[39m\u001b[38;5;124mNo ROOT files found for \u001b[39m\u001b[38;5;124m\"\u001b[39m\u001b[38;5;241m+\u001b[39mdas_name)\n",
      "\u001b[0;31mRuntimeError\u001b[0m: No ROOT files found for /JetHT/Run2022C-22Sep2023-v1/NANOAOD"
     ]
    }
   ],
   "source": [
    "# 1) Install dependencies (run once)\n",
    "!pip install --quiet uproot awkward requests\n",
    "\n",
    "# 2) Imports\n",
    "import uproot\n",
    "import awkward as ak\n",
    "import pandas as pd\n",
    "import requests\n",
    "import urllib3\n",
    "urllib3.disable_warnings(urllib3.exceptions.InsecureRequestWarning)\n",
    "\n",
    "# 3) Your datasets dict\n",
    "datasets = {\n",
    "    'JetHT_Run2022C': ['/JetHT/Run2022C-22Sep2023-v1/NANOAOD'],\n",
    "    'JetMET_Run2022C': ['/JetMET/Run2022C-22Sep2023-v1/NANOAOD'],\n",
    "    'JetMET_Run2022D': ['/JetMET/Run2022D-22Sep2023-v1/NANOAOD'],\n",
    "}\n",
    "\n",
    "# 4) Helper: query DAS for the list of ROOT files in a NanoAOD dataset\n",
    "def get_root_files(das_name):\n",
    "    \"\"\"Return a list of xrootd URLs for all files in the given DAS dataset.\"\"\"\n",
    "    url = \"https://cmsweb.cern.ch/das/api/v1.0/file\"\n",
    "    params = {\n",
    "        \"dataset\": das_name,\n",
    "        \"instance\": \"prod/global\",\n",
    "        \"format\": \"plain\"       # 拿纯文本格式列表\n",
    "    }\n",
    "    resp = requests.get(url, params=params, verify=False)\n",
    "    file_names = resp.text.strip().splitlines()\n",
    "    return [f\"root://cms-xrd-global.cern.ch/{fn}\" for fn in file_names]\n",
    "\n",
    "# 5) Debug: check you actually got files\n",
    "key      = 'JetHT_Run2022C'\n",
    "das_name = datasets[key][0]\n",
    "file_list = get_root_files(das_name)\n",
    "print(f\"Found {len(file_list)} files; first few:\\n\", file_list[:5])\n",
    "\n",
    "# 6) Open the 'Events' tree and read a few branches (if file_list non-empty)\n",
    "if file_list:\n",
    "    events = uproot.concatenate(\n",
    "        file_list,\n",
    "        \"Events\",\n",
    "        branches=[\"Jet_pt\", \"Jet_eta\", \"MET_pt\"],\n",
    "        library=\"ak\",\n",
    "    )\n",
    "    df = ak.to_pandas(events[:1000])\n",
    "    print(df.head())\n",
    "else:\n",
    "    raise RuntimeError(\"No ROOT files found for \"+das_name)\n"
   ]
  },
  {
   "cell_type": "code",
   "execution_count": null,
   "id": "ae01d397-0922-4a59-a0e7-f6a7e975fa50",
   "metadata": {
    "execution": {
     "iopub.status.busy": "2025-04-29T21:41:57.467840Z",
     "iopub.status.idle": "2025-04-29T21:41:57.468054Z",
     "shell.execute_reply": "2025-04-29T21:41:57.467963Z",
     "shell.execute_reply.started": "2025-04-29T21:41:57.467952Z"
    }
   },
   "outputs": [],
   "source": [
    "# Get data file names from stock nano\n",
    "import os\n",
    "import json\n",
    "\n",
    "def add_prefix(files):\n",
    "\n",
    "    new_files = {}\n",
    "    prefix = 'root://cmsxrootd.fnal.gov/'\n",
    "    \n",
    "    for k in files.keys():\n",
    "        print(k)\n",
    "        new_files[k] = [prefix + f for f in files[k]]\n",
    "\n",
    "    print(new_files.keys())\n",
    "    return new_files\n",
    "\n",
    "# 2022 JetHT\n",
    "filesets = {}\n",
    "\n",
    "filesets['JetHT_Run2022C'] = !dasgoclient --query=\"file dataset=/JetHT/Run2022C-22Sep2023-v1/NANOAOD\"\n",
    "\n",
    "this_file = 'infiles/2022_JetHTData.json'\n",
    "with open(this_file, 'w') as json_file:\n",
    "    json.dump(add_prefix(filesets), json_file)\n",
    "        \n",
    "for i,f in filesets.items():\n",
    "    print(i, len(f))"
   ]
  },
  {
   "cell_type": "code",
   "execution_count": null,
   "id": "a557d525-60aa-4694-831d-bbf607556004",
   "metadata": {},
   "outputs": [],
   "source": []
  }
 ],
 "metadata": {
  "kernelspec": {
   "display_name": "Python 3 (ipykernel)",
   "language": "python",
   "name": "python3"
  },
  "language_info": {
   "codemirror_mode": {
    "name": "ipython",
    "version": 3
   },
   "file_extension": ".py",
   "mimetype": "text/x-python",
   "name": "python",
   "nbconvert_exporter": "python",
   "pygments_lexer": "ipython3",
   "version": "3.9.15"
  }
 },
 "nbformat": 4,
 "nbformat_minor": 5
}

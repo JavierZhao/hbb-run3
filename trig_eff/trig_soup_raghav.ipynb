{
 "cells": [
  {
   "cell_type": "code",
   "execution_count": 10,
   "id": "09ff4627-4cfe-4981-86af-2b9dbf7c934c",
   "metadata": {
    "execution": {
     "iopub.execute_input": "2024-12-05T00:44:20.303765Z",
     "iopub.status.busy": "2024-12-05T00:44:20.303247Z",
     "iopub.status.idle": "2024-12-05T00:44:20.311673Z",
     "shell.execute_reply": "2024-12-05T00:44:20.311157Z",
     "shell.execute_reply.started": "2024-12-05T00:44:20.303744Z"
    }
   },
   "outputs": [],
   "source": [
    "import warnings\n",
    "warnings.filterwarnings('ignore')\n",
    "import os\n",
    "import awkward as ak\n",
    "import uproot\n",
    "import hist\n",
    "import numpy as np\n",
    "from coffea import processor\n",
    "from coffea.nanoevents import NanoEventsFactory, NanoAODSchema, BaseSchema\n",
    "from coffea.processor import dict_accumulator, list_accumulator\n",
    "from coffea import nanoevents\n",
    "\n",
    "import matplotlib.pyplot as plt\n",
    "import matplotlib.colors as colors\n",
    "import mplhep as hep\n",
    "plt.style.use(hep.style.ROOT)\n",
    "\n",
    "import matplotlib.pylab as pylab\n",
    "params = {'legend.fontsize': 'medium',\n",
    "         'axes.labelsize': 'x-large',\n",
    "         'axes.titlesize':'x-large',\n",
    "         'xtick.labelsize':'medium',\n",
    "         'ytick.labelsize':'medium'}\n",
    "pylab.rcParams.update(params)\n",
    "\n",
    "#line thickness\n",
    "import matplotlib as mpl\n",
    "mpl.rcParams['lines.linewidth'] = 5\n",
    "import itertools\n",
    "import json\n",
    "\n",
    "# for making fancy 2d histograms\n",
    "import plotly.graph_objects as go\n",
    "from plotly.subplots import make_subplots\n",
    "\n",
    "from trig_eff_process import create_baseline_selection_mask"
   ]
  },
  {
   "cell_type": "code",
   "execution_count": 4,
   "id": "afa78c45-3256-4533-af4d-356005d5a64f",
   "metadata": {
    "execution": {
     "iopub.execute_input": "2024-12-04T22:42:55.679993Z",
     "iopub.status.busy": "2024-12-04T22:42:55.679678Z",
     "iopub.status.idle": "2024-12-04T22:43:01.395150Z",
     "shell.execute_reply": "2024-12-04T22:43:01.394500Z",
     "shell.execute_reply.started": "2024-12-04T22:42:55.679970Z"
    }
   },
   "outputs": [],
   "source": [
    "events = nanoevents.NanoEventsFactory.from_root(\n",
    "    \"root://cmseos.fnal.gov//store/user/lpcdihiggsboost/NanoAOD_v12_ParT/rkansal/2022/HHbbtt/GluGlutoHHto2B2Tau_kl-1p00_kt-1p00_c2-0p00_LHEweights_TuneCP5_13p6TeV_powheg-pythia8/GluGlutoHHto2B2Tau_kl-1p00_kt-1p00_c2-0p00_TuneCP5_13p6TeV/241028_235514/0000/Run3Summer22NanoAODv12_1-1.root\",\n",
    "    schemaclass=nanoevents.NanoAODSchema,\n",
    ").events()"
   ]
  },
  {
   "cell_type": "code",
   "execution_count": 33,
   "id": "e091248d-e4fa-4b3b-b0ce-ed8ee8b85488",
   "metadata": {
    "execution": {
     "iopub.execute_input": "2024-12-05T01:11:36.702971Z",
     "iopub.status.busy": "2024-12-05T01:11:36.702616Z",
     "iopub.status.idle": "2024-12-05T01:11:36.710580Z",
     "shell.execute_reply": "2024-12-05T01:11:36.709875Z",
     "shell.execute_reply.started": "2024-12-05T01:11:36.702948Z"
    }
   },
   "outputs": [],
   "source": [
    "from coffea import processor\n",
    "import numpy as np\n",
    "import awkward as ak\n",
    "\n",
    "class TriggerSoupProcessor(processor.ProcessorABC):\n",
    "    \"\"\"\n",
    "    Calculate the trigger efficiency of the soup\n",
    "    \"\"\"\n",
    "    def __init__(self, trig_soup, trig_vars, baseline_selection_mask):\n",
    "        self.trig_soup = trig_soup\n",
    "        self.trig_vars = trig_vars\n",
    "        self.baseline_selection_mask = baseline_selection_mask\n",
    "        self._accumulator = processor.dict_accumulator({\n",
    "            'num_pass': 0,\n",
    "            'num_total': 0,\n",
    "        })\n",
    "\n",
    "    @property\n",
    "    def accumulator(self):\n",
    "        return self._accumulator\n",
    "\n",
    "    def process(self, events):\n",
    "        # Compute the logical OR of all triggers in the soup\n",
    "        # Initialize trigger_or_mask with False for all events\n",
    "        trigger_or_mask = ak.zeros_like(events.event, dtype=bool)\n",
    "\n",
    "        # Accumulate the logical OR without in-place modification\n",
    "        for trig in self.trig_soup:\n",
    "            trigger_or_mask = trigger_or_mask | events.HLT[trig]\n",
    "\n",
    "        # Apply the baseline selection mask\n",
    "        if callable(self.baseline_selection_mask):\n",
    "            baseline_mask = self.baseline_selection_mask(events)\n",
    "        else:\n",
    "            baseline_mask = events[self.baseline_selection_mask]\n",
    "\n",
    "        # Calculate the number of events passing both baseline and trigger\n",
    "        num_pass = ak.sum(baseline_mask & trigger_or_mask)\n",
    "        num_total = ak.sum(baseline_mask)\n",
    "\n",
    "        # Update the accumulator\n",
    "        self._accumulator['num_pass'] += num_pass\n",
    "        self._accumulator['num_total'] += num_total\n",
    "\n",
    "        return self.accumulator\n",
    "\n",
    "    def postprocess(self, accumulator):\n",
    "        # Calculate and add efficiency to the accumulator\n",
    "        num_pass = accumulator['num_pass']\n",
    "        num_total = accumulator['num_total']\n",
    "        efficiency = num_pass / num_total if num_total > 0 else 0\n",
    "        accumulator['efficiency'] = efficiency\n",
    "        return accumulator\n"
   ]
  },
  {
   "cell_type": "code",
   "execution_count": 34,
   "id": "597fc3ef-7eb5-40aa-a114-643591d9ea19",
   "metadata": {
    "execution": {
     "iopub.execute_input": "2024-12-05T01:11:36.919226Z",
     "iopub.status.busy": "2024-12-05T01:11:36.919030Z",
     "iopub.status.idle": "2024-12-05T01:11:36.925226Z",
     "shell.execute_reply": "2024-12-05T01:11:36.924221Z",
     "shell.execute_reply.started": "2024-12-05T01:11:36.919209Z"
    }
   },
   "outputs": [],
   "source": [
    "def baseline_selection_mask(events):\n",
    "    jets = events['Jet']  # Assuming jet information is stored under the key 'Jet'\n",
    "\n",
    "    # Ensure that each event has at least four jets\n",
    "    has_four_jets = ak.num(jets.pt) >= 4\n",
    "\n",
    "    # Initialize a mask with False for events with fewer than four jets\n",
    "    leading_jet_pt_mask = has_four_jets\n",
    "\n",
    "    # For events with at least four jets, apply pT thresholds to the leading jets\n",
    "    if ak.any(has_four_jets):\n",
    "        # Create a mask for the pT thresholds\n",
    "        pt_mask = (\n",
    "            (jets.pt[has_four_jets][:, 0] > 105) &\n",
    "            (jets.pt[has_four_jets][:, 1] > 88) &\n",
    "            (jets.pt[has_four_jets][:, 2] > 76) &\n",
    "            (jets.pt[has_four_jets][:, 3] > 15)\n",
    "        )\n",
    "        # Update the leading_jet_pt_mask with the pT conditions\n",
    "        leading_jet_pt_mask = ak.where(has_four_jets, pt_mask, False)\n",
    "    else:\n",
    "        leading_jet_pt_mask = ak.zeros_like(has_four_jets, dtype=bool)\n",
    "\n",
    "    return leading_jet_pt_mask\n"
   ]
  },
  {
   "cell_type": "code",
   "execution_count": 35,
   "id": "73e2a324-fd26-423b-8326-5bc2c4044f33",
   "metadata": {
    "execution": {
     "iopub.execute_input": "2024-12-05T01:11:37.121919Z",
     "iopub.status.busy": "2024-12-05T01:11:37.121000Z",
     "iopub.status.idle": "2024-12-05T01:11:37.130537Z",
     "shell.execute_reply": "2024-12-05T01:11:37.129947Z",
     "shell.execute_reply.started": "2024-12-05T01:11:37.121868Z"
    }
   },
   "outputs": [],
   "source": [
    "trig_soup = [\n",
    "        'AK8PFJet250_SoftDropMass40_PFAK8ParticleNetBB0p35',\n",
    "        'AK8PFJet425_SoftDropMass40',\n",
    "        'QuadPFJet105_88_76_15_DoublePFBTagDeepJet_1p3_7p7_VBF1',\n",
    "        'QuadPFJet70_50_40_35_PFBTagParticleNet_2BTagSum0p65',\n",
    "        'QuadPFJet103_88_75_15_PFBTagDeepJet_1p3_VBF2',\n",
    "        'QuadPFJet103_88_75_15_DoublePFBTagDeepJet_1p3_7p7_VBF1',\n",
    "        'QuadPFJet70_50_40_35_PFBTagParticleNet_2BTagSum0p65'\n",
    "    ]\n",
    "trig_vars = {\n",
    "    'ht': {\n",
    "        'label': \"H_{T} [GeV]\",\n",
    "        'axis': hist.axis.Regular(bins=100, start=0, stop=2000, name=\"ht\", label=\"H_{T} [GeV]\"),\n",
    "        'proc': lambda events: ak.sum(events.FatJet.pt, axis=1)\n",
    "    },\n",
    "    'pt': {\n",
    "        'label': \"Leading Jet $p_{T}$ [GeV]\",\n",
    "        'axis': hist.axis.Regular(bins=30, start=0, stop=1200, name=\"pt\", label=\"Leading Jet $p_{T}$ [GeV]\"),\n",
    "        'proc': lambda events: ak.fill_none(ak.pad_none(events.FatJet.pt, 1, clip=True)[:, 0], np.nan)\n",
    "    },\n",
    "    'msd': {\n",
    "        'label': \"Leading Jet $m_{SD}$ [GeV]\",\n",
    "        'axis': hist.axis.Regular(bins=10, start=40, stop=200, name=\"msd\", label=\"Leading Jet $m_{SD}$ [GeV]\"),\n",
    "        'proc': lambda events: ak.fill_none(ak.pad_none(events.FatJet.msoftdrop, 1, clip=True)[:, 0], np.nan)\n",
    "    },\n",
    "    'num_ak4': {\n",
    "        'label': \"Number of AK4 Jets\",\n",
    "        'axis': hist.axis.Integer(0, 20, name=\"num_ak4\", label=\"Number of AK4 Jets\"),\n",
    "        'proc': lambda events: ak.num(events.Jet)\n",
    "    },\n",
    "    'gen_H_pt': {\n",
    "        'label': \"Gen Higgs pT [GeV]\",\n",
    "        'axis': hist.axis.Regular(bins=30, start=0, stop=1200, name=\"gen_H_pt\", label=\"Gen Higgs pT [GeV]\"),\n",
    "        'proc': lambda events: events.HTXS.Higgs_pt\n",
    "    },\n",
    "    'particleNet_XbbVsQCD':{\n",
    "        'label': \"Leading Particle Net TXbb score\",\n",
    "        'axis': hist.axis.Regular(bins=30, start=0, stop=1, name=\"particleNet_XbbVsQCD\", label=\"Leading Particle Net TXbb score\"),\n",
    "        'proc': lambda events: ak.fill_none(\n",
    "            ak.pad_none(events.FatJet.particleNet_XbbVsQCD, 1, clip=True)[:, 0],\n",
    "            np.nan\n",
    "        )\n",
    "    }\n",
    "}\n",
    "processor_instance = TriggerSoupProcessor(trig_soup, trig_vars, baseline_selection_mask)"
   ]
  },
  {
   "cell_type": "code",
   "execution_count": 36,
   "id": "38345c49-9782-45df-8236-1e14a5918048",
   "metadata": {
    "execution": {
     "iopub.execute_input": "2024-12-05T01:11:37.310298Z",
     "iopub.status.busy": "2024-12-05T01:11:37.309969Z",
     "iopub.status.idle": "2024-12-05T01:11:38.641351Z",
     "shell.execute_reply": "2024-12-05T01:11:38.640346Z",
     "shell.execute_reply.started": "2024-12-05T01:11:37.310278Z"
    }
   },
   "outputs": [
    {
     "ename": "ValueError",
     "evalue": "cannot broadcast RegularArray of size 25281 with RegularArray of size 25300\n\n(https://github.com/scikit-hep/awkward-1.0/blob/1.10.5/src/awkward/_util.py#L920)",
     "output_type": "error",
     "traceback": [
      "\u001b[0;31m---------------------------------------------------------------------------\u001b[0m",
      "\u001b[0;31mValueError\u001b[0m                                Traceback (most recent call last)",
      "Cell \u001b[0;32mIn[36], line 1\u001b[0m\n\u001b[0;32m----> 1\u001b[0m out \u001b[38;5;241m=\u001b[39m \u001b[43mprocessor_instance\u001b[49m\u001b[38;5;241;43m.\u001b[39;49m\u001b[43mprocess\u001b[49m\u001b[43m(\u001b[49m\u001b[43mevents\u001b[49m\u001b[43m)\u001b[49m\n",
      "Cell \u001b[0;32mIn[33], line 33\u001b[0m, in \u001b[0;36mTriggerSoupProcessor.process\u001b[0;34m(self, events)\u001b[0m\n\u001b[1;32m     31\u001b[0m \u001b[38;5;66;03m# Apply the baseline selection mask\u001b[39;00m\n\u001b[1;32m     32\u001b[0m \u001b[38;5;28;01mif\u001b[39;00m \u001b[38;5;28mcallable\u001b[39m(\u001b[38;5;28mself\u001b[39m\u001b[38;5;241m.\u001b[39mbaseline_selection_mask):\n\u001b[0;32m---> 33\u001b[0m     baseline_mask \u001b[38;5;241m=\u001b[39m \u001b[38;5;28;43mself\u001b[39;49m\u001b[38;5;241;43m.\u001b[39;49m\u001b[43mbaseline_selection_mask\u001b[49m\u001b[43m(\u001b[49m\u001b[43mevents\u001b[49m\u001b[43m)\u001b[49m\n\u001b[1;32m     34\u001b[0m \u001b[38;5;28;01melse\u001b[39;00m:\n\u001b[1;32m     35\u001b[0m     baseline_mask \u001b[38;5;241m=\u001b[39m events[\u001b[38;5;28mself\u001b[39m\u001b[38;5;241m.\u001b[39mbaseline_selection_mask]\n",
      "Cell \u001b[0;32mIn[34], line 20\u001b[0m, in \u001b[0;36mbaseline_selection_mask\u001b[0;34m(events)\u001b[0m\n\u001b[1;32m     13\u001b[0m     pt_mask \u001b[38;5;241m=\u001b[39m (\n\u001b[1;32m     14\u001b[0m         (jets\u001b[38;5;241m.\u001b[39mpt[has_four_jets][:, \u001b[38;5;241m0\u001b[39m] \u001b[38;5;241m>\u001b[39m \u001b[38;5;241m105\u001b[39m) \u001b[38;5;241m&\u001b[39m\n\u001b[1;32m     15\u001b[0m         (jets\u001b[38;5;241m.\u001b[39mpt[has_four_jets][:, \u001b[38;5;241m1\u001b[39m] \u001b[38;5;241m>\u001b[39m \u001b[38;5;241m88\u001b[39m) \u001b[38;5;241m&\u001b[39m\n\u001b[1;32m     16\u001b[0m         (jets\u001b[38;5;241m.\u001b[39mpt[has_four_jets][:, \u001b[38;5;241m2\u001b[39m] \u001b[38;5;241m>\u001b[39m \u001b[38;5;241m76\u001b[39m) \u001b[38;5;241m&\u001b[39m\n\u001b[1;32m     17\u001b[0m         (jets\u001b[38;5;241m.\u001b[39mpt[has_four_jets][:, \u001b[38;5;241m3\u001b[39m] \u001b[38;5;241m>\u001b[39m \u001b[38;5;241m15\u001b[39m)\n\u001b[1;32m     18\u001b[0m     )\n\u001b[1;32m     19\u001b[0m     \u001b[38;5;66;03m# Update the leading_jet_pt_mask with the pT conditions\u001b[39;00m\n\u001b[0;32m---> 20\u001b[0m     leading_jet_pt_mask \u001b[38;5;241m=\u001b[39m \u001b[43mak\u001b[49m\u001b[38;5;241;43m.\u001b[39;49m\u001b[43mwhere\u001b[49m\u001b[43m(\u001b[49m\u001b[43mhas_four_jets\u001b[49m\u001b[43m,\u001b[49m\u001b[43m \u001b[49m\u001b[43mpt_mask\u001b[49m\u001b[43m,\u001b[49m\u001b[43m \u001b[49m\u001b[38;5;28;43;01mFalse\u001b[39;49;00m\u001b[43m)\u001b[49m\n\u001b[1;32m     21\u001b[0m \u001b[38;5;28;01melse\u001b[39;00m:\n\u001b[1;32m     22\u001b[0m     leading_jet_pt_mask \u001b[38;5;241m=\u001b[39m ak\u001b[38;5;241m.\u001b[39mzeros_like(has_four_jets, dtype\u001b[38;5;241m=\u001b[39m\u001b[38;5;28mbool\u001b[39m)\n",
      "File \u001b[0;32m/srv/.env/lib/python3.9/site-packages/awkward/operations/structure.py:1846\u001b[0m, in \u001b[0;36mwhere\u001b[0;34m(condition, *args, **kwargs)\u001b[0m\n\u001b[1;32m   1843\u001b[0m             \u001b[38;5;28;01mreturn\u001b[39;00m \u001b[38;5;28;01mNone\u001b[39;00m\n\u001b[1;32m   1845\u001b[0m     behavior \u001b[38;5;241m=\u001b[39m ak\u001b[38;5;241m.\u001b[39m_util\u001b[38;5;241m.\u001b[39mbehaviorof(condition, \u001b[38;5;241m*\u001b[39margs)\n\u001b[0;32m-> 1846\u001b[0m     out \u001b[38;5;241m=\u001b[39m \u001b[43mak\u001b[49m\u001b[38;5;241;43m.\u001b[39;49m\u001b[43m_util\u001b[49m\u001b[38;5;241;43m.\u001b[39;49m\u001b[43mbroadcast_and_apply\u001b[49m\u001b[43m(\u001b[49m\n\u001b[1;32m   1847\u001b[0m \u001b[43m        \u001b[49m\u001b[43m[\u001b[49m\u001b[43makcondition\u001b[49m\u001b[43m,\u001b[49m\u001b[43m \u001b[49m\u001b[43mleft\u001b[49m\u001b[43m,\u001b[49m\u001b[43m \u001b[49m\u001b[43mright\u001b[49m\u001b[43m]\u001b[49m\u001b[43m,\u001b[49m\n\u001b[1;32m   1848\u001b[0m \u001b[43m        \u001b[49m\u001b[43mgetfunction\u001b[49m\u001b[43m,\u001b[49m\n\u001b[1;32m   1849\u001b[0m \u001b[43m        \u001b[49m\u001b[43mbehavior\u001b[49m\u001b[43m,\u001b[49m\n\u001b[1;32m   1850\u001b[0m \u001b[43m        \u001b[49m\u001b[43mpass_depth\u001b[49m\u001b[38;5;241;43m=\u001b[39;49m\u001b[38;5;28;43;01mFalse\u001b[39;49;00m\u001b[43m,\u001b[49m\n\u001b[1;32m   1851\u001b[0m \u001b[43m        \u001b[49m\u001b[43mnumpy_to_regular\u001b[49m\u001b[38;5;241;43m=\u001b[39;49m\u001b[38;5;28;43;01mTrue\u001b[39;49;00m\u001b[43m,\u001b[49m\n\u001b[1;32m   1852\u001b[0m \u001b[43m    \u001b[49m\u001b[43m)\u001b[49m\n\u001b[1;32m   1854\u001b[0m     \u001b[38;5;28;01mreturn\u001b[39;00m ak\u001b[38;5;241m.\u001b[39m_util\u001b[38;5;241m.\u001b[39mmaybe_wrap(out[\u001b[38;5;241m0\u001b[39m], behavior, highlevel)\n\u001b[1;32m   1856\u001b[0m \u001b[38;5;28;01melse\u001b[39;00m:\n",
      "File \u001b[0;32m/srv/.env/lib/python3.9/site-packages/awkward/_util.py:1172\u001b[0m, in \u001b[0;36mbroadcast_and_apply\u001b[0;34m(inputs, getfunction, behavior, allow_records, pass_depth, pass_user, user, left_broadcast, right_broadcast, numpy_to_regular, regular_to_jagged)\u001b[0m\n\u001b[1;32m   1170\u001b[0m \u001b[38;5;28;01melse\u001b[39;00m:\n\u001b[1;32m   1171\u001b[0m     isscalar \u001b[38;5;241m=\u001b[39m []\n\u001b[0;32m-> 1172\u001b[0m     out \u001b[38;5;241m=\u001b[39m \u001b[43mapply\u001b[49m\u001b[43m(\u001b[49m\u001b[43mbroadcast_pack\u001b[49m\u001b[43m(\u001b[49m\u001b[43minputs\u001b[49m\u001b[43m,\u001b[49m\u001b[43m \u001b[49m\u001b[43misscalar\u001b[49m\u001b[43m)\u001b[49m\u001b[43m,\u001b[49m\u001b[43m \u001b[49m\u001b[38;5;241;43m0\u001b[39;49m\u001b[43m,\u001b[49m\u001b[43m \u001b[49m\u001b[43muser\u001b[49m\u001b[43m)\u001b[49m\n\u001b[1;32m   1173\u001b[0m     \u001b[38;5;28;01massert\u001b[39;00m \u001b[38;5;28misinstance\u001b[39m(out, \u001b[38;5;28mtuple\u001b[39m)\n\u001b[1;32m   1174\u001b[0m     \u001b[38;5;28;01mreturn\u001b[39;00m \u001b[38;5;28mtuple\u001b[39m(broadcast_unpack(x, isscalar) \u001b[38;5;28;01mfor\u001b[39;00m x \u001b[38;5;129;01min\u001b[39;00m out)\n",
      "File \u001b[0;32m/srv/.env/lib/python3.9/site-packages/awkward/_util.py:915\u001b[0m, in \u001b[0;36mbroadcast_and_apply.<locals>.apply\u001b[0;34m(inputs, depth, user)\u001b[0m\n\u001b[1;32m    913\u001b[0m         nextinputs\u001b[38;5;241m.\u001b[39mappend(x\u001b[38;5;241m.\u001b[39mcontent[: \u001b[38;5;28mlen\u001b[39m(x) \u001b[38;5;241m*\u001b[39m x\u001b[38;5;241m.\u001b[39msize])\n\u001b[1;32m    914\u001b[0m     \u001b[38;5;28;01melse\u001b[39;00m:\n\u001b[0;32m--> 915\u001b[0m         \u001b[38;5;28;01mraise\u001b[39;00m \u001b[38;5;167;01mValueError\u001b[39;00m(\n\u001b[1;32m    916\u001b[0m             \u001b[38;5;124m\"\u001b[39m\u001b[38;5;124mcannot broadcast RegularArray of size \u001b[39m\u001b[38;5;124m\"\u001b[39m\n\u001b[1;32m    917\u001b[0m             \u001b[38;5;124m\"\u001b[39m\u001b[38;5;132;01m{}\u001b[39;00m\u001b[38;5;124m with RegularArray of size \u001b[39m\u001b[38;5;132;01m{}\u001b[39;00m\u001b[38;5;124m\"\u001b[39m\u001b[38;5;241m.\u001b[39mformat(\n\u001b[1;32m    918\u001b[0m                 x\u001b[38;5;241m.\u001b[39msize, maxsize\n\u001b[1;32m    919\u001b[0m             )\n\u001b[1;32m    920\u001b[0m             \u001b[38;5;241m+\u001b[39m exception_suffix(\u001b[38;5;18m__file__\u001b[39m)\n\u001b[1;32m    921\u001b[0m         )\n\u001b[1;32m    922\u001b[0m \u001b[38;5;28;01melse\u001b[39;00m:\n\u001b[1;32m    923\u001b[0m     nextinputs\u001b[38;5;241m.\u001b[39mappend(x)\n",
      "\u001b[0;31mValueError\u001b[0m: cannot broadcast RegularArray of size 25281 with RegularArray of size 25300\n\n(https://github.com/scikit-hep/awkward-1.0/blob/1.10.5/src/awkward/_util.py#L920)"
     ]
    }
   ],
   "source": [
    "out = processor_instance.process(events)"
   ]
  },
  {
   "cell_type": "code",
   "execution_count": null,
   "id": "e843c1bf-4626-498d-8909-df2ba261884c",
   "metadata": {
    "execution": {
     "iopub.status.busy": "2024-12-05T01:11:38.642398Z",
     "iopub.status.idle": "2024-12-05T01:11:38.642632Z",
     "shell.execute_reply": "2024-12-05T01:11:38.642531Z",
     "shell.execute_reply.started": "2024-12-05T01:11:38.642521Z"
    }
   },
   "outputs": [],
   "source": [
    "events.HLT['AK8PFJet250_SoftDropMass40_PFAK8ParticleNetBB0p35']"
   ]
  },
  {
   "cell_type": "code",
   "execution_count": null,
   "id": "fca7cf8c-6a20-407b-b009-e5b075baf32b",
   "metadata": {},
   "outputs": [],
   "source": []
  }
 ],
 "metadata": {
  "kernelspec": {
   "display_name": "Python 3 (ipykernel)",
   "language": "python",
   "name": "python3"
  },
  "language_info": {
   "codemirror_mode": {
    "name": "ipython",
    "version": 3
   },
   "file_extension": ".py",
   "mimetype": "text/x-python",
   "name": "python",
   "nbconvert_exporter": "python",
   "pygments_lexer": "ipython3",
   "version": "3.9.15"
  }
 },
 "nbformat": 4,
 "nbformat_minor": 5
}

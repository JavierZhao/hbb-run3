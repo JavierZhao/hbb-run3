{
 "cells": [
  {
   "cell_type": "code",
   "execution_count": 23,
   "id": "401f6bed",
   "metadata": {},
   "outputs": [],
   "source": [
    "# import sys, subprocess\n",
    "# subprocess.check_call([sys.executable, \"-m\", \"pip\", \"install\", \"--user\", \"awkward==1.10.5\", \"uproot==4.3.7\"])"
   ]
  },
  {
   "cell_type": "code",
   "execution_count": 24,
   "id": "2dc6eef1",
   "metadata": {},
   "outputs": [],
   "source": [
    "import awkward as ak\n",
    "import numpy as np\n",
    "import coffea.processor as processor\n",
    "from coffea.nanoevents import NanoAODSchema\n",
    "import hist\n",
    "import uproot\n",
    "import json\n",
    "import os\n",
    "import shutil\n",
    "\n",
    "# Plotting libraries (ensure you have them installed: pip install matplotlib mplhep)\n",
    "import matplotlib.pyplot as plt\n",
    "import mplhep as hep\n",
    "# Apply the CMS plotting style\n",
    "plt.style.use(hep.style.CMS)\n"
   ]
  },
  {
   "cell_type": "code",
   "execution_count": 25,
   "id": "0832ec3d",
   "metadata": {},
   "outputs": [],
   "source": [
    "\n",
    "# =================================================================================================\n",
    "# The Processor class is unchanged.\n",
    "# =================================================================================================\n",
    "trig_vars_data = {\n",
    "    'ht': {\n",
    "        'label': \"H_{T} [GeV]\",\n",
    "        'axis': hist.axis.Regular(bins=100, start=0, stop=2000, name=\"ht\", label=\"H_{T} [GeV]\"),\n",
    "        'proc': lambda events: ak.sum(events.FatJet.pt, axis=1)\n",
    "    },\n",
    "    'pt': {\n",
    "        'label': \"Leading Jet $p_{T}$ [GeV]\",\n",
    "        'axis': hist.axis.Regular(bins=30, start=0, stop=1200, name=\"pt\", label=\"Leading Jet $p_{T}$ [GeV]\"),\n",
    "        'proc': lambda events: ak.fill_none(ak.pad_none(events.FatJet.pt, 1, clip=True)[:, 0], np.nan)\n",
    "    },\n",
    "    'msd': {\n",
    "        'label': \"Leading Jet $m_{SD}$ [GeV]\",\n",
    "        'axis': hist.axis.Regular(bins=10, start=40, stop=200, name=\"msd\", label=\"Leading Jet $m_{SD}$ [GeV]\"),\n",
    "        'proc': lambda events: ak.fill_none(ak.pad_none(events.FatJet.msoftdrop, 1, clip=True)[:, 0], np.nan)\n",
    "    },\n",
    "    'num_ak4': {\n",
    "        'label': \"Number of AK4 Jets\",\n",
    "        'axis': hist.axis.Integer(0, 20, name=\"num_ak4\", label=\"Number of AK4 Jets\"),\n",
    "        'proc': lambda events: ak.num(events.Jet)\n",
    "    },\n",
    "    'particleNet_XbbVsQCD':{\n",
    "        'label': \"Leading Particle Net TXbb score\",\n",
    "        'axis': hist.axis.Regular(bins=30, start=0, stop=1, name=\"particleNet_XbbVsQCD\", label=\"Leading Particle Net TXbb score\"),\n",
    "        'proc': lambda events: ak.fill_none(\n",
    "            ak.pad_none(events.FatJet.particleNet_XbbVsQCD, 1, clip=True)[:, 0],\n",
    "            np.nan\n",
    "        )\n",
    "    }\n",
    "}\n",
    "\n",
    "class MuonTriggerSFProcessor(processor.ProcessorABC):\n",
    "    \"\"\"\n",
    "    A coffea processor to calculate muon trigger scale factors.\n",
    "    \"\"\"\n",
    "    def __init__(self, year='2022', trigger_of_interest='HLT_Mu50'):\n",
    "        self.year = str(year)\n",
    "        self.trigger_of_interest = trigger_of_interest\n",
    "        self._reference_triggers = {\n",
    "            '2022': [\"HLT_IsoMu24_eta2p1\", \"HLT_IsoMu27\", \"HLT_IsoMu24\"],\n",
    "            # \tHLT_Mu50_v* OR HLT_CascadeMu100_v* OR HLT_HighPtTkMu100_v*\n",
    "        }\n",
    "        if self.year not in self._reference_triggers:\n",
    "            raise ValueError(f\"Year '{self.year}' not supported. Please add reference triggers.\")\n",
    "        self._accumulator = processor.dict_accumulator({\n",
    "            \"counts\": processor.value_accumulator(int, initial=0),\n",
    "            # Per-variable histograms: dataset, selection, variable axis\n",
    "            **{\n",
    "                f\"eff_{name}\": hist.Hist(\n",
    "                    hist.axis.StrCategory([], name=\"dataset\", label=\"Dataset\", growth=True),\n",
    "                    hist.axis.StrCategory([\"numerator\", \"denominator\"], name=\"selection\", label=\"Selection\"),\n",
    "                    cfg[\"axis\"],\n",
    "                ) for name, cfg in trig_vars_data.items()\n",
    "            },\n",
    "        })\n",
    "\n",
    "    @property\n",
    "    def accumulator(self):\n",
    "        return self._accumulator\n",
    "\n",
    "    def process(self, events):\n",
    "        # Build a fresh output; avoid calling identity() on scikit-hep hist\n",
    "        output = {\n",
    "            'counts': 0,\n",
    "        }\n",
    "        for _name in trig_vars_data.keys():\n",
    "            output[f'eff_{_name}'] = self._accumulator[f'eff_{_name}'].copy()\n",
    "        dataset = events.metadata['dataset']\n",
    "        is_mc = hasattr(events, \"genWeight\")\n",
    "        output['counts'] = len(events)\n",
    "        reference_trigger_paths = self._reference_triggers[self.year]\n",
    "        fired_reference_triggers = ak.zeros_like(events.event, dtype=bool)\n",
    "        for trig in reference_trigger_paths:\n",
    "            if trig in events.HLT.fields:\n",
    "                fired_reference_triggers = fired_reference_triggers | events.HLT[trig]\n",
    "        events = events[fired_reference_triggers]\n",
    "        muons = events.Muon\n",
    "        tight_muon_selection = (\n",
    "            (muons.pt > 25) & (abs(muons.eta) < 2.4) & (muons.tightId) & (muons.pfRelIso04_all < 0.15)\n",
    "        )\n",
    "        tight_muons = muons[tight_muon_selection]\n",
    "        has_one_tight_muon = ak.num(tight_muons) >= 1\n",
    "        denominator_events = events[has_one_tight_muon]\n",
    "        leading_muon = ak.firsts(tight_muons[has_one_tight_muon])\n",
    "        # Build variables once\n",
    "        var_values_den = {name: cfg['proc'](denominator_events) for name, cfg in trig_vars_data.items()}\n",
    "        # Always fill denominator first for each variable\n",
    "        weights_den = denominator_events.genWeight if is_mc else np.ones(len(denominator_events))\n",
    "        for name, values in var_values_den.items():\n",
    "            output[f'eff_{name}'].fill(dataset=dataset, selection=\"denominator\", **{name: values}, weight=weights_den)\n",
    "        # Conditionally fill numerator if the trigger exists and fired\n",
    "        if self.trigger_of_interest in denominator_events.HLT.fields:\n",
    "            fired_trigger_of_interest = denominator_events.HLT[self.trigger_of_interest]\n",
    "            numerator_events = denominator_events[fired_trigger_of_interest]\n",
    "            if len(numerator_events) > 0:\n",
    "                var_values_num = {name: cfg['proc'](numerator_events) for name, cfg in trig_vars_data.items()}\n",
    "                weights_num = numerator_events.genWeight if is_mc else np.ones(len(numerator_events))\n",
    "                for name, values in var_values_num.items():\n",
    "                    output[f'eff_{name}'].fill(dataset=dataset, selection=\"numerator\", **{name: values}, weight=weights_num)\n",
    "        else:\n",
    "            print(f\"Warning: Trigger '{self.trigger_of_interest}' not found in HLT paths for dataset {dataset}! Skipping numerator fill.\")\n",
    "        return output\n",
    "\n",
    "    def postprocess(self, accumulator):\n",
    "        return accumulator\n",
    "\n",
    "def plot_trigger_sfs(accumulator, year, trigger_name, data_dataset, mc_dataset, save_dir):\n",
    "    \"\"\"\n",
    "    Plots trigger efficiencies and scale factors from the processor output.\n",
    "    \"\"\"\n",
    "    print(f\"\\n--- Generating plots for trigger '{trigger_name}' ---\")\n",
    "    os.makedirs(save_dir, exist_ok=True)\n",
    "\n",
    "    for name, cfg in trig_vars_data.items():\n",
    "        h = accumulator[f'eff_{name}']\n",
    "        axis = h.axes[name]\n",
    "\n",
    "        def safe_project(ds, sel):\n",
    "            try:\n",
    "                return h[ds, sel, :].values()\n",
    "            except Exception:\n",
    "                return np.zeros(len(axis.edges) - 1)\n",
    "\n",
    "        data_num = safe_project(data_dataset, \"numerator\")\n",
    "        data_den = safe_project(data_dataset, \"denominator\")\n",
    "        mc_num = safe_project(mc_dataset, \"numerator\")\n",
    "        mc_den = safe_project(mc_dataset, \"denominator\")\n",
    "\n",
    "        eff_data = np.divide(data_num, data_den, out=np.zeros_like(data_num), where=data_den!=0)\n",
    "        eff_mc = np.divide(mc_num, mc_den, out=np.zeros_like(mc_num), where=mc_den!=0)\n",
    "        sf = np.divide(eff_data, eff_mc, out=np.ones_like(eff_data), where=eff_mc!=0)\n",
    "\n",
    "        fig, (ax, rax) = plt.subplots(2, 1, figsize=(10, 10), gridspec_kw={\"height_ratios\": (3, 1)}, sharex=True)\n",
    "        fig.subplots_adjust(hspace=0.05)\n",
    "        yerr_flag = bool(np.any(data_den > 0))\n",
    "        hep.histplot(eff_data, bins=axis.edges, yerr=yerr_flag, ax=ax, histtype='errorbar', color='k', label='Data')\n",
    "        hep.histplot(eff_mc, bins=axis.edges, ax=ax, histtype='step', color='r', linewidth=2, label='MC (Sim.)')\n",
    "        ax.set_ylabel(\"Efficiency\")\n",
    "        ax.set_ylim(0, 1.1)\n",
    "        ax.legend()\n",
    "        hep.cms.label(f\"Preliminary\", data=True, year=year, ax=ax, lumi=27.7)\n",
    "        ax.set_title(f\"Efficiency for {trigger_name} vs {cfg['label']}\", loc='right', style='italic')\n",
    "        hep.histplot(sf, bins=axis.edges, ax=rax, histtype='errorbar', color='k', yerr=False)\n",
    "        rax.set_ylabel(\"Data / MC\")\n",
    "        rax.set_xlabel(axis.label)\n",
    "        rax.set_ylim(0.8, 1.2)\n",
    "        rax.grid(True)\n",
    "        save_path = os.path.join(save_dir, f\"{trigger_name}/{name}.png\")\n",
    "        print(f\"  - Saving 1D plot to: {save_path}\")\n",
    "        os.makedirs(os.path.dirname(save_path), exist_ok=True)\n",
    "        plt.savefig(save_path, dpi=150, bbox_inches='tight')\n",
    "        plt.close(fig)"
   ]
  },
  {
   "cell_type": "code",
   "execution_count": 26,
   "id": "e0262d92",
   "metadata": {},
   "outputs": [],
   "source": [
    "file_dict_periods = {'2022': {'QCD': \"QCD_HT100to200\", 'MuonData': \"Muon_Run2022C\"},\n",
    "                     '2022EE': {'QCD': \"QCD_HT100to200\", 'MuonData': \"Muon_Run2022E\"},\n",
    "                     '2023': {'QCD': \"QCD_HT100to200\", 'MuonData': \"Muon0_Run2023C-v4\"},\n",
    "                     '2023BPix': {'QCD': \"QCD_HT100to200\", 'MuonData': \"Muon0_Run2023D-v1\"}\n",
    "                    }\n",
    "trigger_dict_periods = {\n",
    "    '2022': [\n",
    "        'AK8PFJet250_SoftDropMass40_PFAK8ParticleNetBB0p35',\n",
    "        # 'AK8PFJet425_SoftDropMass40',\n",
    "        'QuadPFJet70_50_40_35_PFBTagParticleNet_2BTagSum0p65'\n",
    "    ],\n",
    "    '2022EE': [\n",
    "        'AK8PFJet250_SoftDropMass40_PFAK8ParticleNetBB0p35',\n",
    "        # 'AK8PFJet425_SoftDropMass40',\n",
    "        'QuadPFJet70_50_40_35_PFBTagParticleNet_2BTagSum0p65'\n",
    "    ],\n",
    "    '2023': [\n",
    "        'AK8PFJet250_SoftDropMass40_PNetBB0p06',\n",
    "        # 'AK8PFJet425_SoftDropMass40',\n",
    "        'PFHT340_QuadPFJet70_50_40_40_PNet2BTagMean0p70',\n",
    "        'VBF_DiPFJet125_45_Mjj720_Detajj3p0'\n",
    "    ],\n",
    "    '2023BPix': [\n",
    "        'AK8PFJet250_SoftDropMass40_PNetBB0p06',\n",
    "        # 'AK8PFJet425_SoftDropMass40',\n",
    "        'PFHT340_QuadPFJet70_50_40_40_PNet2BTagMean0p70',\n",
    "        'VBF_DiPFJet125_45_Mjj720_Detajj3p0'\n",
    "    ]\n",
    "}"
   ]
  },
  {
   "cell_type": "code",
   "execution_count": 27,
   "id": "c10bb283",
   "metadata": {},
   "outputs": [
    {
     "name": "stdout",
     "output_type": "stream",
     "text": [
      "--- Step 1: Setting up analysis environment ---\n",
      "--- Step 2: Running processor ---\n",
      "Reading: 2022/2022_QCD.json (key: QCD_HT100to200)\n",
      "Reading: 2022/2022_MuonData.json (key: Muon_Run2022C)\n",
      "Constructed fileset:\n",
      "{\n",
      "  \"QCD_2022\": [\n",
      "    \"root://cmsxrootd.fnal.gov//store/mc/Run3Summer22NanoAODv12/QCD-4Jets_HT-100to200_TuneCP5_13p6TeV_madgraphMLM-pythia8/NANOAODSIM/130X_mcRun3_2022_realistic_v5-v2/30000/ecf42241-40a0-4652-93b4-60f74dfab976.root\",\n",
      "    \"root://cmsxrootd.fnal.gov//store/mc/Run3Summer22NanoAODv12/QCD-4Jets_HT-100to200_TuneCP5_13p6TeV_madgraphMLM-pythia8/NANOAODSIM/130X_mcRun3_2022_realistic_v5-v2/30000/7faa020a-46cc-428a-bf07-9cd1835fc244.root\",\n",
      "    \"root://cmsxrootd.fnal.gov//store/mc/Run3Summer22NanoAODv12/QCD-4Jets_HT-100to200_TuneCP5_13p6TeV_madgraphMLM-pythia8/NANOAODSIM/130X_mcRun3_2022_realistic_v5-v2/30000/7e8704f3-32b3-424c-afe6-532152258ad8.root\",\n",
      "    \"root://cmsxrootd.fnal.gov//store/mc/Run3Summer22NanoAODv12/QCD-4Jets_HT-100to200_TuneCP5_13p6TeV_madgraphMLM-pythia8/NANOAODSIM/130X_mcRun3_2022_realistic_v5-v2/30000/f951cafd-b491-4fd5-a2c1-1d64b9a2d99c.root\",\n",
      "    \"root://cmsxrootd.fnal.gov//store/mc/Run3Summer22NanoAODv12/QCD-4Jets_HT-100to200_TuneCP5_13p6TeV_madgraphMLM-pythia8/NANOAODSIM/130X_mcRun3_2022_realistic_v5-v2/30000/b31f9c2d-6ce5-46f4-aec6-3c30c1251a55.root\",\n",
      "    \"root://cmsxrootd.fnal.gov//store/mc/Run3Summer22NanoAODv12/QCD-4Jets_HT-100to200_TuneCP5_13p6TeV_madgraphMLM-pythia8/NANOAODSIM/130X_mcRun3_2022_realistic_v5-v2/2520000/c390decf-021d-42d5-94be-43ebf3b392e9.root\",\n",
      "    \"root://cmsxrootd.fnal.gov//store/mc/Run3Summer22NanoAODv12/QCD-4Jets_HT-100to200_TuneCP5_13p6TeV_madgraphMLM-pythia8/NANOAODSIM/130X_mcRun3_2022_realistic_v5-v2/40000/65891273-c82b-4d52-a678-34b73aa8c76f.root\",\n",
      "    \"root://cmsxrootd.fnal.gov//store/mc/Run3Summer22NanoAODv12/QCD-4Jets_HT-100to200_TuneCP5_13p6TeV_madgraphMLM-pythia8/NANOAODSIM/130X_mcRun3_2022_realistic_v5-v2/40000/e89f2ac3-ac8a-4f09-b64a-948f6e65d74c.root\",\n",
      "    \"root://cmsxrootd.fnal.gov//store/mc/Run3Summer22NanoAODv12/QCD-4Jets_HT-100to200_TuneCP5_13p6TeV_madgraphMLM-pythia8/NANOAODSIM/130X_mcRun3_2022_realistic_v5-v2/50000/a7c3ac08-335c-4c0f-b76b-33798168b713.root\",\n",
      "    \"root://cmsxrootd.fnal.gov//store/mc/Run3Summer22NanoAODv12/QCD-4Jets_HT-100to200_TuneCP5_13p6TeV_madgraphMLM-pythia8/NANOAODSIM/130X_mcRun3_2022_realistic_v5-v2/50000/26b172f9-3051-40b0-a31c-92b292e6f2a5.root\",\n",
      "    \"root://cmsxrootd.fnal.gov//store/mc/Run3Summer22NanoAODv12/QCD-4Jets_HT-100to200_TuneCP5_13p6TeV_madgraphMLM-pythia8/NANOAODSIM/130X_mcRun3_2022_realistic_v5-v2/50000/f3e4c13a-594c-478b-bea3-3011ab64542b.root\",\n",
      "    \"root://cmsxrootd.fnal.gov//store/mc/Run3Summer22NanoAODv12/QCD-4Jets_HT-100to200_TuneCP5_13p6TeV_madgraphMLM-pythia8/NANOAODSIM/130X_mcRun3_2022_realistic_v5-v2/30000/d3c0c615-3867-4ce8-9af5-c0461b98f7bd.root\",\n",
      "    \"root://cmsxrootd.fnal.gov//store/mc/Run3Summer22NanoAODv12/QCD-4Jets_HT-100to200_TuneCP5_13p6TeV_madgraphMLM-pythia8/NANOAODSIM/130X_mcRun3_2022_realistic_v5-v2/50000/71d205b0-1450-4b44-90c5-50c3ac6f137e.root\",\n",
      "    \"root://cmsxrootd.fnal.gov//store/mc/Run3Summer22NanoAODv12/QCD-4Jets_HT-100to200_TuneCP5_13p6TeV_madgraphMLM-pythia8/NANOAODSIM/130X_mcRun3_2022_realistic_v5-v2/30000/60dc581a-9f1f-4f3d-ba2c-31c8c7bf2e31.root\",\n",
      "    \"root://cmsxrootd.fnal.gov//store/mc/Run3Summer22NanoAODv12/QCD-4Jets_HT-100to200_TuneCP5_13p6TeV_madgraphMLM-pythia8/NANOAODSIM/130X_mcRun3_2022_realistic_v5-v2/2540000/9b971d36-dd28-49b6-b4bc-2ca4f67937c5.root\",\n",
      "    \"root://cmsxrootd.fnal.gov//store/mc/Run3Summer22NanoAODv12/QCD-4Jets_HT-100to200_TuneCP5_13p6TeV_madgraphMLM-pythia8/NANOAODSIM/130X_mcRun3_2022_realistic_v5-v2/30000/915cb913-5e63-402e-a0f6-843a6562ba1a.root\",\n",
      "    \"root://cmsxrootd.fnal.gov//store/mc/Run3Summer22NanoAODv12/QCD-4Jets_HT-100to200_TuneCP5_13p6TeV_madgraphMLM-pythia8/NANOAODSIM/130X_mcRun3_2022_realistic_v5-v2/2520000/5469d3a5-d7f5-489d-a555-089dfcf948d6.root\",\n",
      "    \"root://cmsxrootd.fnal.gov//store/mc/Run3Summer22NanoAODv12/QCD-4Jets_HT-100to200_TuneCP5_13p6TeV_madgraphMLM-pythia8/NANOAODSIM/130X_mcRun3_2022_realistic_v5-v2/30000/01a78b58-c407-43e5-be30-e12a71dbc91b.root\",\n",
      "    \"root://cmsxrootd.fnal.gov//store/mc/Run3Summer22NanoAODv12/QCD-4Jets_HT-100to200_TuneCP5_13p6TeV_madgraphMLM-pythia8/NANOAODSIM/130X_mcRun3_2022_realistic_v5-v2/30000/00aa6fb4-ee74-456e-9fe6-a88b0d0c90b8.root\",\n",
      "    \"root://cmsxrootd.fnal.gov//store/mc/Run3Summer22NanoAODv12/QCD-4Jets_HT-100to200_TuneCP5_13p6TeV_madgraphMLM-pythia8/NANOAODSIM/130X_mcRun3_2022_realistic_v5-v2/2540000/4c049663-5ba1-4a86-8afc-cbe0fa4a41b7.root\",\n",
      "    \"root://cmsxrootd.fnal.gov//store/mc/Run3Summer22NanoAODv12/QCD-4Jets_HT-100to200_TuneCP5_13p6TeV_madgraphMLM-pythia8/NANOAODSIM/130X_mcRun3_2022_realistic_v5-v2/50000/b045832a-5a9a-4219-8a53-3a5137ea7f9d.root\",\n",
      "    \"root://cmsxrootd.fnal.gov//store/mc/Run3Summer22NanoAODv12/QCD-4Jets_HT-100to200_TuneCP5_13p6TeV_madgraphMLM-pythia8/NANOAODSIM/130X_mcRun3_2022_realistic_v5-v2/40000/99473462-70b2-461b-bbb5-5119f1545456.root\",\n",
      "    \"root://cmsxrootd.fnal.gov//store/mc/Run3Summer22NanoAODv12/QCD-4Jets_HT-100to200_TuneCP5_13p6TeV_madgraphMLM-pythia8/NANOAODSIM/130X_mcRun3_2022_realistic_v5-v2/30000/20d12bcf-2d1a-4302-80a8-3bada7b47d62.root\",\n",
      "    \"root://cmsxrootd.fnal.gov//store/mc/Run3Summer22NanoAODv12/QCD-4Jets_HT-100to200_TuneCP5_13p6TeV_madgraphMLM-pythia8/NANOAODSIM/130X_mcRun3_2022_realistic_v5-v2/30000/093d55c3-86d1-4db5-aea8-41d124821c6a.root\",\n",
      "    \"root://cmsxrootd.fnal.gov//store/mc/Run3Summer22NanoAODv12/QCD-4Jets_HT-100to200_TuneCP5_13p6TeV_madgraphMLM-pythia8/NANOAODSIM/130X_mcRun3_2022_realistic_v5-v2/50000/0f6379f9-3dbd-4a87-a19f-6304b935b1ba.root\",\n",
      "    \"root://cmsxrootd.fnal.gov//store/mc/Run3Summer22NanoAODv12/QCD-4Jets_HT-100to200_TuneCP5_13p6TeV_madgraphMLM-pythia8/NANOAODSIM/130X_mcRun3_2022_realistic_v5-v2/50000/106a13af-ff05-4647-b8ae-65d1dd7e65c8.root\",\n",
      "    \"root://cmsxrootd.fnal.gov//store/mc/Run3Summer22NanoAODv12/QCD-4Jets_HT-100to200_TuneCP5_13p6TeV_madgraphMLM-pythia8/NANOAODSIM/130X_mcRun3_2022_realistic_v5-v2/40000/5e165601-acae-4457-a590-0e8ac54c4437.root\",\n",
      "    \"root://cmsxrootd.fnal.gov//store/mc/Run3Summer22NanoAODv12/QCD-4Jets_HT-100to200_TuneCP5_13p6TeV_madgraphMLM-pythia8/NANOAODSIM/130X_mcRun3_2022_realistic_v5-v2/40000/dc632083-c625-432b-a71c-d40acaa32d2b.root\",\n",
      "    \"root://cmsxrootd.fnal.gov//store/mc/Run3Summer22NanoAODv12/QCD-4Jets_HT-100to200_TuneCP5_13p6TeV_madgraphMLM-pythia8/NANOAODSIM/130X_mcRun3_2022_realistic_v5-v2/2520000/b71bf524-ad97-49bc-98f1-34eb922e68cf.root\",\n",
      "    \"root://cmsxrootd.fnal.gov//store/mc/Run3Summer22NanoAODv12/QCD-4Jets_HT-100to200_TuneCP5_13p6TeV_madgraphMLM-pythia8/NANOAODSIM/130X_mcRun3_2022_realistic_v5-v2/40000/24054bb4-f55f-4eef-b9fd-2fec61222ac0.root\",\n",
      "    \"root://cmsxrootd.fnal.gov//store/mc/Run3Summer22NanoAODv12/QCD-4Jets_HT-100to200_TuneCP5_13p6TeV_madgraphMLM-pythia8/NANOAODSIM/130X_mcRun3_2022_realistic_v5-v2/40000/ca62e638-e7e5-4842-b80e-4ffdd18d1264.root\",\n",
      "    \"root://cmsxrootd.fnal.gov//store/mc/Run3Summer22NanoAODv12/QCD-4Jets_HT-100to200_TuneCP5_13p6TeV_madgraphMLM-pythia8/NANOAODSIM/130X_mcRun3_2022_realistic_v5-v2/2530000/b40d5e6a-721e-41fb-86f3-d20b1c56336f.root\",\n",
      "    \"root://cmsxrootd.fnal.gov//store/mc/Run3Summer22NanoAODv12/QCD-4Jets_HT-100to200_TuneCP5_13p6TeV_madgraphMLM-pythia8/NANOAODSIM/130X_mcRun3_2022_realistic_v5-v2/2530000/04425d24-1bb2-425c-bf3c-f6c50a0b728d.root\",\n",
      "    \"root://cmsxrootd.fnal.gov//store/mc/Run3Summer22NanoAODv12/QCD-4Jets_HT-100to200_TuneCP5_13p6TeV_madgraphMLM-pythia8/NANOAODSIM/130X_mcRun3_2022_realistic_v5-v2/50000/c863bf27-e099-46dd-99a5-8b119b6b7d35.root\",\n",
      "    \"root://cmsxrootd.fnal.gov//store/mc/Run3Summer22NanoAODv12/QCD-4Jets_HT-100to200_TuneCP5_13p6TeV_madgraphMLM-pythia8/NANOAODSIM/130X_mcRun3_2022_realistic_v5-v2/2530000/99ad3ac0-f800-4791-bf7e-2003633337d0.root\",\n",
      "    \"root://cmsxrootd.fnal.gov//store/mc/Run3Summer22NanoAODv12/QCD-4Jets_HT-100to200_TuneCP5_13p6TeV_madgraphMLM-pythia8/NANOAODSIM/130X_mcRun3_2022_realistic_v5-v2/50000/245ad3e2-83ee-4b15-8ae0-de838d218390.root\",\n",
      "    \"root://cmsxrootd.fnal.gov//store/mc/Run3Summer22NanoAODv12/QCD-4Jets_HT-100to200_TuneCP5_13p6TeV_madgraphMLM-pythia8/NANOAODSIM/130X_mcRun3_2022_realistic_v5-v2/40000/aef273cb-bf79-4023-b0ce-a3b3fe35fc97.root\",\n",
      "    \"root://cmsxrootd.fnal.gov//store/mc/Run3Summer22NanoAODv12/QCD-4Jets_HT-100to200_TuneCP5_13p6TeV_madgraphMLM-pythia8/NANOAODSIM/130X_mcRun3_2022_realistic_v5-v2/40000/f307ad40-9b69-4b11-b1eb-69954b5bcd49.root\",\n",
      "    \"root://cmsxrootd.fnal.gov//store/mc/Run3Summer22NanoAODv12/QCD-4Jets_HT-100to200_TuneCP5_13p6TeV_madgraphMLM-pythia8/NANOAODSIM/130X_mcRun3_2022_realistic_v5-v2/30000/1438e10a-ab40-4a58-982e-7a634c453ed3.root\",\n",
      "    \"root://cmsxrootd.fnal.gov//store/mc/Run3Summer22NanoAODv12/QCD-4Jets_HT-100to200_TuneCP5_13p6TeV_madgraphMLM-pythia8/NANOAODSIM/130X_mcRun3_2022_realistic_v5-v2/30000/d11e1882-803a-43e8-ba22-f2d558255754.root\"\n",
      "  ],\n",
      "  \"MuonData_2022\": [\n",
      "    \"root://cmsxrootd.fnal.gov//store/data/Run2022C/Muon/NANOAOD/22Sep2023-v1/30000/8c3c411a-6cac-4dae-b120-c038f36bd9fd.root\",\n",
      "    \"root://cmsxrootd.fnal.gov//store/data/Run2022C/Muon/NANOAOD/22Sep2023-v1/30000/7b72eecf-8b67-4eb6-99ea-bb4ef70d45a3.root\",\n",
      "    \"root://cmsxrootd.fnal.gov//store/data/Run2022C/Muon/NANOAOD/22Sep2023-v1/30000/47efafe6-1953-4ffe-9303-690fe292afaf.root\",\n",
      "    \"root://cmsxrootd.fnal.gov//store/data/Run2022C/Muon/NANOAOD/22Sep2023-v1/30000/0e6c1b0f-336d-4cb6-b820-441ef76ed6e8.root\",\n",
      "    \"root://cmsxrootd.fnal.gov//store/data/Run2022C/Muon/NANOAOD/22Sep2023-v1/30000/0af947d6-3bf6-4176-83f2-c4ce2e8237ba.root\",\n",
      "    \"root://cmsxrootd.fnal.gov//store/data/Run2022C/Muon/NANOAOD/22Sep2023-v1/30000/489f9351-696e-4751-bf5f-7501482728ef.root\",\n",
      "    \"root://cmsxrootd.fnal.gov//store/data/Run2022C/Muon/NANOAOD/22Sep2023-v1/30000/bbaac590-d287-477d-9a05-28c6b8e84e9c.root\",\n",
      "    \"root://cmsxrootd.fnal.gov//store/data/Run2022C/Muon/NANOAOD/22Sep2023-v1/30000/3770a55e-f12f-4d34-ad06-447f4f468f7b.root\",\n",
      "    \"root://cmsxrootd.fnal.gov//store/data/Run2022C/Muon/NANOAOD/22Sep2023-v1/30000/aae17dfb-8d6a-4f79-ae2a-aec041064529.root\",\n",
      "    \"root://cmsxrootd.fnal.gov//store/data/Run2022C/Muon/NANOAOD/22Sep2023-v1/30000/9cd8bd4a-37f1-4f37-8834-f17d70e4ebe4.root\",\n",
      "    \"root://cmsxrootd.fnal.gov//store/data/Run2022C/Muon/NANOAOD/22Sep2023-v1/30000/380e187b-1355-4cf6-8fa5-a818c004a4d9.root\",\n",
      "    \"root://cmsxrootd.fnal.gov//store/data/Run2022C/Muon/NANOAOD/22Sep2023-v1/30000/59346ff9-a2d8-4793-8b98-37080adf0c17.root\",\n",
      "    \"root://cmsxrootd.fnal.gov//store/data/Run2022C/Muon/NANOAOD/22Sep2023-v1/30000/c6de94e3-4a64-41ee-88e2-b4de7bb77ce9.root\",\n",
      "    \"root://cmsxrootd.fnal.gov//store/data/Run2022C/Muon/NANOAOD/22Sep2023-v1/30000/0d9b870f-7403-4912-8d49-2bac8bbd7a01.root\",\n",
      "    \"root://cmsxrootd.fnal.gov//store/data/Run2022C/Muon/NANOAOD/22Sep2023-v1/30000/6a316142-c060-48d1-a4f0-da1212bf5bb6.root\",\n",
      "    \"root://cmsxrootd.fnal.gov//store/data/Run2022C/Muon/NANOAOD/22Sep2023-v1/30000/ebadb3ba-2c55-4686-a45d-a3ee26a8c953.root\",\n",
      "    \"root://cmsxrootd.fnal.gov//store/data/Run2022C/Muon/NANOAOD/22Sep2023-v1/30000/a1970ec7-4fcc-49b5-9369-a83889426a1f.root\",\n",
      "    \"root://cmsxrootd.fnal.gov//store/data/Run2022C/Muon/NANOAOD/22Sep2023-v1/30000/86dac433-7d2d-4b35-8ca3-944e2d20435d.root\",\n",
      "    \"root://cmsxrootd.fnal.gov//store/data/Run2022C/Muon/NANOAOD/22Sep2023-v1/30000/449b9466-b543-43c9-8967-415539848883.root\",\n",
      "    \"root://cmsxrootd.fnal.gov//store/data/Run2022C/Muon/NANOAOD/22Sep2023-v1/30000/2ed15425-f771-47bd-8b73-b0a964f85786.root\",\n",
      "    \"root://cmsxrootd.fnal.gov//store/data/Run2022C/Muon/NANOAOD/22Sep2023-v1/30000/44838b68-7dc5-42dc-bf50-73a2a569dc0c.root\",\n",
      "    \"root://cmsxrootd.fnal.gov//store/data/Run2022C/Muon/NANOAOD/22Sep2023-v1/30000/9fdf3b62-4eda-4fc9-a2f6-ad0363672f62.root\",\n",
      "    \"root://cmsxrootd.fnal.gov//store/data/Run2022C/Muon/NANOAOD/22Sep2023-v1/30000/112419b3-551f-4c34-86a4-6becaffbc420.root\",\n",
      "    \"root://cmsxrootd.fnal.gov//store/data/Run2022C/Muon/NANOAOD/22Sep2023-v1/50000/b8bf1e1d-2a37-498c-962a-64b1fbb4ec0f.root\",\n",
      "    \"root://cmsxrootd.fnal.gov//store/data/Run2022C/Muon/NANOAOD/22Sep2023-v1/50000/edb51905-88b7-4eed-aecb-5b29ce7ca96d.root\",\n",
      "    \"root://cmsxrootd.fnal.gov//store/data/Run2022C/Muon/NANOAOD/22Sep2023-v1/50000/0a8a4c73-882a-468d-b29c-b2753289dbee.root\",\n",
      "    \"root://cmsxrootd.fnal.gov//store/data/Run2022C/Muon/NANOAOD/22Sep2023-v1/30000/0ab14de2-46f5-40e8-9b39-bf9af91252e1.root\",\n",
      "    \"root://cmsxrootd.fnal.gov//store/data/Run2022C/Muon/NANOAOD/22Sep2023-v1/30000/dea86b0c-949c-4bf7-95c3-5b6a12e4aba5.root\",\n",
      "    \"root://cmsxrootd.fnal.gov//store/data/Run2022C/Muon/NANOAOD/22Sep2023-v1/30000/3ab6612f-cdad-4662-8345-8a046159df7c.root\",\n",
      "    \"root://cmsxrootd.fnal.gov//store/data/Run2022C/Muon/NANOAOD/22Sep2023-v1/30000/8a146a9b-e7f9-4414-a654-d519b551a6f1.root\",\n",
      "    \"root://cmsxrootd.fnal.gov//store/data/Run2022C/Muon/NANOAOD/22Sep2023-v1/30000/d7a3603d-2278-4baf-a256-e68246e62cff.root\",\n",
      "    \"root://cmsxrootd.fnal.gov//store/data/Run2022C/Muon/NANOAOD/22Sep2023-v1/30000/f87d9ef4-52f5-4f9f-b466-6c93cab299f4.root\",\n",
      "    \"root://cmsxrootd.fnal.gov//store/data/Run2022C/Muon/NANOAOD/22Sep2023-v1/30000/3a624cf6-ac23-4b19-b4e4-d14dc6b14327.root\",\n",
      "    \"root://cmsxrootd.fnal.gov//store/data/Run2022C/Muon/NANOAOD/22Sep2023-v1/30000/4fd8eea4-71a4-4040-b08d-a081ee1b8a2c.root\",\n",
      "    \"root://cmsxrootd.fnal.gov//store/data/Run2022C/Muon/NANOAOD/22Sep2023-v1/30000/ebe6442f-f09e-4f50-8901-1816ff4e8177.root\",\n",
      "    \"root://cmsxrootd.fnal.gov//store/data/Run2022C/Muon/NANOAOD/22Sep2023-v1/30000/644bd81b-026f-460a-a8ff-66df7ac05de8.root\",\n",
      "    \"root://cmsxrootd.fnal.gov//store/data/Run2022C/Muon/NANOAOD/22Sep2023-v1/30000/b4af60fc-c19f-482a-b99d-f20243810efe.root\",\n",
      "    \"root://cmsxrootd.fnal.gov//store/data/Run2022C/Muon/NANOAOD/22Sep2023-v1/30000/417751e9-bac9-4d92-93fd-495577165f69.root\",\n",
      "    \"root://cmsxrootd.fnal.gov//store/data/Run2022C/Muon/NANOAOD/22Sep2023-v1/30000/b0a27791-b3af-4347-ae90-4f88faecb833.root\",\n",
      "    \"root://cmsxrootd.fnal.gov//store/data/Run2022C/Muon/NANOAOD/22Sep2023-v1/30000/e4e95f0d-dce1-4351-9f49-dec9f5220cb0.root\"\n",
      "  ]\n",
      "}\n",
      "\n",
      "Executing processor... (This may take a few moments with remote files)\n"
     ]
    },
    {
     "data": {
      "application/vnd.jupyter.widget-view+json": {
       "model_id": "b0d73f18cca040c186c2e024e1614f75",
       "version_major": 2,
       "version_minor": 0
      },
      "text/plain": [
       "Output()"
      ]
     },
     "metadata": {},
     "output_type": "display_data"
    },
    {
     "data": {
      "text/html": [
       "<pre style=\"white-space:pre;overflow-x:auto;line-height:normal;font-family:Menlo,'DejaVu Sans Mono',consolas,'Courier New',monospace\"></pre>\n"
      ],
      "text/plain": []
     },
     "metadata": {},
     "output_type": "display_data"
    },
    {
     "data": {
      "text/html": [
       "<pre style=\"white-space:pre;overflow-x:auto;line-height:normal;font-family:Menlo,'DejaVu Sans Mono',consolas,'Courier New',monospace\">\n",
       "</pre>\n"
      ],
      "text/plain": [
       "\n"
      ]
     },
     "metadata": {},
     "output_type": "display_data"
    },
    {
     "data": {
      "application/vnd.jupyter.widget-view+json": {
       "model_id": "8caeb9d6b9e04043b4c6092a9585c25e",
       "version_major": 2,
       "version_minor": 0
      },
      "text/plain": [
       "Output()"
      ]
     },
     "metadata": {},
     "output_type": "display_data"
    },
    {
     "data": {
      "text/html": [
       "<pre style=\"white-space:pre;overflow-x:auto;line-height:normal;font-family:Menlo,'DejaVu Sans Mono',consolas,'Courier New',monospace\"></pre>\n"
      ],
      "text/plain": []
     },
     "metadata": {},
     "output_type": "display_data"
    },
    {
     "data": {
      "text/html": [
       "<pre style=\"white-space:pre;overflow-x:auto;line-height:normal;font-family:Menlo,'DejaVu Sans Mono',consolas,'Courier New',monospace\">\n",
       "</pre>\n"
      ],
      "text/plain": [
       "\n"
      ]
     },
     "metadata": {},
     "output_type": "display_data"
    },
    {
     "name": "stdout",
     "output_type": "stream",
     "text": [
      "Processing complete.\n",
      "\n",
      "--- Generating plots for trigger 'AK8PFJet250_SoftDropMass40_PFAK8ParticleNetBB0p35' ---\n",
      "  - Saving 1D plot to: /srv/trig_eff/figures/SF/2022/AK8PFJet250_SoftDropMass40_PFAK8ParticleNetBB0p35/ht.png\n"
     ]
    },
    {
     "name": "stderr",
     "output_type": "stream",
     "text": [
      "/opt/conda/lib/python3.9/site-packages/mplhep/utils.py:197: RuntimeWarning: All sumw are zero!  Cannot compute meaningful error bars\n",
      "  return np.abs(method_fcn(self.values, variances) - self.values)\n",
      "/opt/conda/lib/python3.9/site-packages/mplhep/utils.py:197: RuntimeWarning: All sumw are zero!  Cannot compute meaningful error bars\n",
      "  return np.abs(method_fcn(self.values, variances) - self.values)\n"
     ]
    },
    {
     "name": "stdout",
     "output_type": "stream",
     "text": [
      "  - Saving 1D plot to: /srv/trig_eff/figures/SF/2022/AK8PFJet250_SoftDropMass40_PFAK8ParticleNetBB0p35/pt.png\n"
     ]
    },
    {
     "name": "stderr",
     "output_type": "stream",
     "text": [
      "/opt/conda/lib/python3.9/site-packages/mplhep/utils.py:197: RuntimeWarning: All sumw are zero!  Cannot compute meaningful error bars\n",
      "  return np.abs(method_fcn(self.values, variances) - self.values)\n"
     ]
    },
    {
     "name": "stdout",
     "output_type": "stream",
     "text": [
      "  - Saving 1D plot to: /srv/trig_eff/figures/SF/2022/AK8PFJet250_SoftDropMass40_PFAK8ParticleNetBB0p35/msd.png\n"
     ]
    },
    {
     "name": "stderr",
     "output_type": "stream",
     "text": [
      "/opt/conda/lib/python3.9/site-packages/mplhep/utils.py:197: RuntimeWarning: All sumw are zero!  Cannot compute meaningful error bars\n",
      "  return np.abs(method_fcn(self.values, variances) - self.values)\n"
     ]
    },
    {
     "name": "stdout",
     "output_type": "stream",
     "text": [
      "  - Saving 1D plot to: /srv/trig_eff/figures/SF/2022/AK8PFJet250_SoftDropMass40_PFAK8ParticleNetBB0p35/num_ak4.png\n"
     ]
    },
    {
     "name": "stderr",
     "output_type": "stream",
     "text": [
      "/opt/conda/lib/python3.9/site-packages/mplhep/utils.py:197: RuntimeWarning: All sumw are zero!  Cannot compute meaningful error bars\n",
      "  return np.abs(method_fcn(self.values, variances) - self.values)\n"
     ]
    },
    {
     "name": "stdout",
     "output_type": "stream",
     "text": [
      "  - Saving 1D plot to: /srv/trig_eff/figures/SF/2022/AK8PFJet250_SoftDropMass40_PFAK8ParticleNetBB0p35/particleNet_XbbVsQCD.png\n",
      "\n",
      "All steps completed.\n"
     ]
    }
   ],
   "source": [
    "\n",
    "if __name__ == '__main__':\n",
    "\n",
    "    # --- 1. Setup for Analysis ---\n",
    "    print(\"--- Step 1: Setting up analysis environment ---\")\n",
    "    YEAR = '2022'\n",
    "    TRIGGER_OF_INTEREST = 'AK8PFJet250_SoftDropMass40_PFAK8ParticleNetBB0p35'\n",
    "    FIGURES_DIR = os.path.join(os.getcwd(), \"figures/SF/\", YEAR)\n",
    "\n",
    "    # --- 2. File Loading from local JSONs and Processor Execution ---\n",
    "    print(\"--- Step 2: Running processor ---\")\n",
    "\n",
    "    # Expect JSONs at /srv/{YEAR}/{YEAR}_{prod_mode}.json with keys from file_dict_periods[YEAR]\n",
    "    # e.g. file_dict_periods['2022'] = {'QCD': 'QCD_HT100to200', 'MuonData': 'Muon_Run2022C'}\n",
    "    prod_modes_map = file_dict_periods[YEAR]\n",
    "\n",
    "    fileset = {}\n",
    "    for prod_mode, file_key in prod_modes_map.items():\n",
    "        json_path = os.path.join(YEAR, f\"{YEAR}_{prod_mode}.json\")\n",
    "        print(f\"Reading: {json_path} (key: {file_key})\")\n",
    "        with open(json_path, 'r') as file:\n",
    "            data = json.load(file)\n",
    "        samples = data.get(file_key, [])\n",
    "        dataset_key = f\"{prod_mode}_{YEAR}\"\n",
    "        fileset[dataset_key] = samples[:40]\n",
    "\n",
    "    print(\"Constructed fileset:\")\n",
    "    print(json.dumps(fileset, indent=2))\n",
    "\n",
    "    iterative_run = processor.Runner(\n",
    "            executor = processor.FuturesExecutor(compression=None, workers=2),\n",
    "            schema=NanoAODSchema,\n",
    "            skipbadfiles=True,\n",
    "    )\n",
    "    \n",
    "    print(\"\\nExecuting processor... (This may take a few moments with remote files)\")\n",
    "    output = iterative_run(\n",
    "        fileset,\n",
    "        treename=\"Events\",\n",
    "        processor_instance=MuonTriggerSFProcessor(year=YEAR, trigger_of_interest=TRIGGER_OF_INTEREST),\n",
    "    )\n",
    "    print(\"Processing complete.\")\n",
    "\n",
    "    # --- 3. Plotting Results ---\n",
    "    plot_trigger_sfs(\n",
    "        accumulator=output,\n",
    "        year=YEAR,\n",
    "        trigger_name=TRIGGER_OF_INTEREST,\n",
    "        data_dataset=f'MuonData_{YEAR}',\n",
    "        mc_dataset=f'QCD_{YEAR}',\n",
    "        save_dir=FIGURES_DIR\n",
    "    )\n",
    "    print(\"\\nAll steps completed.\")"
   ]
  },
  {
   "cell_type": "code",
   "execution_count": null,
   "id": "e42ab5a7",
   "metadata": {},
   "outputs": [],
   "source": []
  }
 ],
 "metadata": {
  "kernelspec": {
   "display_name": "coffea-dask (py3.9 via Apptainer)",
   "language": "python",
   "name": "coffea-dask-py39"
  },
  "language_info": {
   "codemirror_mode": {
    "name": "ipython",
    "version": 3
   },
   "file_extension": ".py",
   "mimetype": "text/x-python",
   "name": "python",
   "nbconvert_exporter": "python",
   "pygments_lexer": "ipython3",
   "version": "3.9.15"
  }
 },
 "nbformat": 4,
 "nbformat_minor": 5
}

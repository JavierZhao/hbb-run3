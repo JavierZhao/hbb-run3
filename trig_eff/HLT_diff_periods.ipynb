{
 "cells": [
  {
   "cell_type": "code",
   "execution_count": 1,
   "id": "aa2da884-ad8e-45eb-801e-5f40090a6083",
   "metadata": {
    "execution": {
     "iopub.execute_input": "2024-11-18T09:37:18.877380Z",
     "iopub.status.busy": "2024-11-18T09:37:18.877024Z",
     "iopub.status.idle": "2024-11-18T09:38:38.239673Z",
     "shell.execute_reply": "2024-11-18T09:38:38.238997Z",
     "shell.execute_reply.started": "2024-11-18T09:37:18.877358Z"
    }
   },
   "outputs": [],
   "source": [
    "import warnings\n",
    "warnings.filterwarnings('ignore')\n",
    "import os\n",
    "import awkward as ak\n",
    "import uproot\n",
    "import hist\n",
    "import numpy as np\n",
    "from coffea import processor\n",
    "from coffea.nanoevents import NanoEventsFactory, NanoAODSchema, BaseSchema\n",
    "from coffea.processor import dict_accumulator, list_accumulator\n",
    "\n",
    "import matplotlib.pyplot as plt\n",
    "import matplotlib.colors as colors\n",
    "import mplhep as hep\n",
    "plt.style.use(hep.style.ROOT)\n",
    "\n",
    "import matplotlib.pylab as pylab\n",
    "params = {'legend.fontsize': 'medium',\n",
    "         'axes.labelsize': 'x-large',\n",
    "         'axes.titlesize':'x-large',\n",
    "         'xtick.labelsize':'medium',\n",
    "         'ytick.labelsize':'medium'}\n",
    "pylab.rcParams.update(params)\n",
    "\n",
    "#line thickness\n",
    "import matplotlib as mpl\n",
    "mpl.rcParams['lines.linewidth'] = 5\n",
    "import itertools\n",
    "import json\n",
    "\n",
    "# for making fancy 2d histograms\n",
    "import plotly.graph_objects as go\n",
    "from plotly.subplots import make_subplots\n",
    "\n",
    "from utils import (plot_1d_trigger_efficiencies, \n",
    "                plot_1d_trigger_efficiencies_improvement, \n",
    "                plot_fancy_2d_trigger_efficiencies, \n",
    "                compare_trigger_efficiencies, \n",
    "                plot_cutflow,\n",
    "                plot_1d_trigger_soup_compact,\n",
    "                plot_1d_trigger_soup_cms)\n",
    "from trig_eff_process import (create_baseline_selection_mask, \n",
    "                            TriggerEfficiencyProcessor, \n",
    "                            TriggerEfficiencyImprovementProcessor, \n",
    "                            VBFBaselineCutFlowProcessor, \n",
    "                            GeneralBaselineCutFlowProcessor,\n",
    "                            TriggerSoupProcessor)"
   ]
  },
  {
   "cell_type": "code",
   "execution_count": 3,
   "id": "3d326d57-979e-4b92-8e2a-56482f3628d1",
   "metadata": {
    "execution": {
     "iopub.execute_input": "2024-11-18T09:42:04.629011Z",
     "iopub.status.busy": "2024-11-18T09:42:04.627919Z",
     "iopub.status.idle": "2024-11-18T09:42:57.276222Z",
     "shell.execute_reply": "2024-11-18T09:42:57.275286Z",
     "shell.execute_reply.started": "2024-11-18T09:42:04.628987Z"
    }
   },
   "outputs": [
    {
     "name": "stdout",
     "output_type": "stream",
     "text": [
      "Started processing 2022EE\n",
      "Finished processing 2022EE\n",
      "Started processing 2023\n",
      "Finished processing 2023\n",
      "Started processing 2023BPix\n",
      "Finished processing 2023BPix\n"
     ]
    }
   ],
   "source": [
    "for dir in ['2022EE', '2023', '2023BPix']:\n",
    "    print(f'Started processing {dir}')\n",
    "    with open(f'/srv/{dir}/{dir}_VBF.json', 'r') as file:\n",
    "        data = json.load(file)\n",
    "    samples = data['VBF_Hto2B']\n",
    "    sample = samples[0]\n",
    "    events = NanoEventsFactory.from_root(sample, schemaclass=NanoAODSchema).events()\n",
    "    with open(f'{dir}_HLT.txt', 'w') as f:\n",
    "        f.write(str(events.HLT.fields))\n",
    "    print(f'Finished processing {dir}')\n"
   ]
  },
  {
   "cell_type": "code",
   "execution_count": 4,
   "id": "44340f5a-810d-43ac-82fc-838decc75b06",
   "metadata": {
    "execution": {
     "iopub.execute_input": "2024-11-18T09:58:17.733050Z",
     "iopub.status.busy": "2024-11-18T09:58:17.731675Z",
     "iopub.status.idle": "2024-11-18T09:58:17.739178Z",
     "shell.execute_reply": "2024-11-18T09:58:17.738005Z",
     "shell.execute_reply.started": "2024-11-18T09:58:17.733021Z"
    }
   },
   "outputs": [],
   "source": [
    "# 2022\n",
    "init_soup = ['AK8PFJet275_SoftDropMass40_PFAK8ParticleNetBB0p35', 'AK8PFJet230_SoftDropMass40']\n",
    "triggers_to_add = ['QuadPFJet105_88_76_15_DoublePFBTagDeepCSV_1p3_7p7_VBF1', 'QuadPFJet70_50_40_35_PFBTagParticleNet_2BTagSum0p65']\n",
    "# 2022EE\n",
    "init_soup = ['AK8PFJet275_SoftDropMass40_PFAK8ParticleNetBB0p35', 'AK8PFJet230_SoftDropMass40']\n",
    "triggers_to_add = ['QuadPFJet105_88_76_15_DoublePFBTagDeepCSV_1p3_7p7_VBF1', 'QuadPFJet70_50_40_35_PFBTagParticleNet_2BTagSum0p65']\n",
    "# 2023\n",
    "# 'AK8PFJet275_SoftDropMass40_PNetBB0p06', 'AK8PFJet275_SoftDropMass40_PNetBB0p10', \n",
    "init_soup = ['AK8PFJet275_SoftDropMass40_PNetBB0p06', 'AK8PFJet230_SoftDropMass40']\n",
    "# 'PFHT280_QuadPFJet30_PNet2BTagMean0p55', 'PFHT280_QuadPFJet30_PNet2BTagMean0p60', 'PFHT280_QuadPFJet35_PNet2BTagMean0p60', 'PFHT340_QuadPFJet70_50_40_40_PNet2BTagMean0p70',\n",
    "triggers_to_add = [ 'QuadPFJet105_88_76_15_DoublePFBTagDeepJet_1p3_7p7_VBF1', 'PFHT340_QuadPFJet70_50_40_40_PNet2BTagMean0p70']\n",
    "# 2023BPix\n",
    "# 'AK8PFJet275_SoftDropMass40_PNetBB0p06', 'AK8PFJet275_SoftDropMass40_PNetBB0p10', \n",
    "init_soup = ['AK8PFJet275_SoftDropMass40_PNetBB0p06', 'AK8PFJet230_SoftDropMass40']\n",
    "# 'PFHT280_QuadPFJet30_PNet2BTagMean0p55', 'PFHT280_QuadPFJet30_PNet2BTagMean0p60', 'PFHT280_QuadPFJet35_PNet2BTagMean0p60', 'PFHT340_QuadPFJet70_50_40_40_PNet2BTagMean0p70',\n",
    "triggers_to_add = [ 'QuadPFJet105_88_76_15_DoublePFBTagDeepJet_1p3_7p7_VBF1', 'PFHT340_QuadPFJet70_50_40_40_PNet2BTagMean0p70']\n"
   ]
  },
  {
   "cell_type": "code",
   "execution_count": 6,
   "id": "f9d76de7-e4e5-4047-9eeb-f39e7d748400",
   "metadata": {
    "execution": {
     "iopub.execute_input": "2024-11-18T09:58:34.975745Z",
     "iopub.status.busy": "2024-11-18T09:58:34.974688Z",
     "iopub.status.idle": "2024-11-18T09:58:34.981484Z",
     "shell.execute_reply": "2024-11-18T09:58:34.980787Z",
     "shell.execute_reply.started": "2024-11-18T09:58:34.975720Z"
    }
   },
   "outputs": [
    {
     "name": "stdout",
     "output_type": "stream",
     "text": [
      "['AK8PFJet275_SoftDropMass40_PFAK8ParticleNetBB0p35', 'AK8PFJet230_SoftDropMass40']\n",
      "['QuadPFJet105_88_76_15_DoublePFBTagDeepJet_1p3_7p7_VBF1', 'PFHT340_QuadPFJet70_50_40_40_PNet2BTagMean0p70']\n"
     ]
    }
   ],
   "source": [
    "trigger_dict = {\n",
    "    '2022': {\n",
    "        'initial_soup': [\n",
    "            'AK8PFJet275_SoftDropMass40_PFAK8ParticleNetBB0p35',\n",
    "            'AK8PFJet230_SoftDropMass40'\n",
    "        ],\n",
    "        'triggers_to_add': [\n",
    "            'QuadPFJet105_88_76_15_DoublePFBTagDeepCSV_1p3_7p7_VBF1',\n",
    "            'QuadPFJet70_50_40_35_PFBTagParticleNet_2BTagSum0p65'\n",
    "        ]\n",
    "    },\n",
    "    '2022EE': {\n",
    "        'initial_soup': [\n",
    "            'AK8PFJet275_SoftDropMass40_PFAK8ParticleNetBB0p35',\n",
    "            'AK8PFJet230_SoftDropMass40'\n",
    "        ],\n",
    "        'triggers_to_add': [\n",
    "            'QuadPFJet105_88_76_15_DoublePFBTagDeepCSV_1p3_7p7_VBF1',\n",
    "            'QuadPFJet70_50_40_35_PFBTagParticleNet_2BTagSum0p65'\n",
    "        ]\n",
    "    },\n",
    "    '2023': {\n",
    "        'initial_soup': [\n",
    "            'AK8PFJet275_SoftDropMass40_PNetBB0p06',\n",
    "            'AK8PFJet230_SoftDropMass40'\n",
    "        ],\n",
    "        'triggers_to_add': [\n",
    "            'QuadPFJet105_88_76_15_DoublePFBTagDeepJet_1p3_7p7_VBF1',\n",
    "            'PFHT340_QuadPFJet70_50_40_40_PNet2BTagMean0p70'\n",
    "        ]\n",
    "    },\n",
    "    '2023BPix': {\n",
    "        'initial_soup': [\n",
    "            'AK8PFJet275_SoftDropMass40_PNetBB0p06',\n",
    "            'AK8PFJet230_SoftDropMass40'\n",
    "        ],\n",
    "        'triggers_to_add': [\n",
    "            'QuadPFJet105_88_76_15_DoublePFBTagDeepJet_1p3_7p7_VBF1',\n",
    "            'PFHT340_QuadPFJet70_50_40_40_PNet2BTagMean0p70'\n",
    "        ]\n",
    "    }\n",
    "}\n",
    "\n",
    "print(trigger_dict['2022EE']['initial_soup'])\n",
    "print(trigger_dict['2023']['triggers_to_add'])\n"
   ]
  },
  {
   "cell_type": "code",
   "execution_count": null,
   "id": "943c758e-8bc9-430d-9cf3-2ef6e29f6c5c",
   "metadata": {},
   "outputs": [],
   "source": []
  }
 ],
 "metadata": {
  "kernelspec": {
   "display_name": "Python 3 (ipykernel)",
   "language": "python",
   "name": "python3"
  },
  "language_info": {
   "codemirror_mode": {
    "name": "ipython",
    "version": 3
   },
   "file_extension": ".py",
   "mimetype": "text/x-python",
   "name": "python",
   "nbconvert_exporter": "python",
   "pygments_lexer": "ipython3",
   "version": "3.9.15"
  }
 },
 "nbformat": 4,
 "nbformat_minor": 5
}
